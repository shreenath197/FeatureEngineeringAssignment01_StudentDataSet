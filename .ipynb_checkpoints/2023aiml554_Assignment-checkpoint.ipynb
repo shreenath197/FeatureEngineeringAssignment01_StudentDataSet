{
 "cells": [
  {
   "cell_type": "markdown",
   "id": "f0a18cd6-eaf8-4a24-822f-92b5b54032de",
   "metadata": {},
   "source": [
    "# Problem Statement:-\n",
    "This dataset contains comprehensive information on 2,392 high school students, detailing their demographics, study habits, parental involvement, extracurricular activities, and academic performance. The target variable, GradeClass, classifies students' grades into distinct categories, providing a robust dataset for educational research, predictive modeling, and statistical analysis."
   ]
  },
  {
   "cell_type": "markdown",
   "id": "169b4b0a-abf4-44ad-b44c-90f5620c6c11",
   "metadata": {},
   "source": [
    "## Libraries Import"
   ]
  },
  {
   "cell_type": "code",
   "execution_count": 2,
   "id": "4ae21d5c-8a10-4a2c-9561-f4db0de20f36",
   "metadata": {},
   "outputs": [],
   "source": [
    "#Importing required packages\n",
    "import numpy as np\n",
    "import pandas as pd\n",
    "import warnings as war\n",
    "war.filterwarnings('ignore')\n",
    "import matplotlib.pyplot as plt\n",
    "import seaborn as sbn\n",
    "import math"
   ]
  },
  {
   "cell_type": "markdown",
   "id": "fb3633ae-3f32-4e51-abf6-e85294645fd5",
   "metadata": {},
   "source": [
    "## Load & Read dataSet"
   ]
  },
  {
   "cell_type": "code",
   "execution_count": 3,
   "id": "a870f9c4-766a-4287-ba5b-50dd389e60a1",
   "metadata": {},
   "outputs": [
    {
     "data": {
      "text/html": [
       "<div>\n",
       "<style scoped>\n",
       "    .dataframe tbody tr th:only-of-type {\n",
       "        vertical-align: middle;\n",
       "    }\n",
       "\n",
       "    .dataframe tbody tr th {\n",
       "        vertical-align: top;\n",
       "    }\n",
       "\n",
       "    .dataframe thead th {\n",
       "        text-align: right;\n",
       "    }\n",
       "</style>\n",
       "<table border=\"1\" class=\"dataframe\">\n",
       "  <thead>\n",
       "    <tr style=\"text-align: right;\">\n",
       "      <th></th>\n",
       "      <th>StudentID</th>\n",
       "      <th>Age</th>\n",
       "      <th>Gender</th>\n",
       "      <th>Ethnicity</th>\n",
       "      <th>ParentalEducation</th>\n",
       "      <th>StudyTimeWeekly</th>\n",
       "      <th>Absences</th>\n",
       "      <th>Tutoring</th>\n",
       "      <th>ParentalSupport</th>\n",
       "      <th>Extracurricular</th>\n",
       "      <th>Sports</th>\n",
       "      <th>Music</th>\n",
       "      <th>Volunteering</th>\n",
       "      <th>GPA</th>\n",
       "      <th>GradeClass</th>\n",
       "    </tr>\n",
       "  </thead>\n",
       "  <tbody>\n",
       "    <tr>\n",
       "      <th>0</th>\n",
       "      <td>1001</td>\n",
       "      <td>17.0</td>\n",
       "      <td>1</td>\n",
       "      <td>0</td>\n",
       "      <td>2</td>\n",
       "      <td>19.833723</td>\n",
       "      <td>7.0</td>\n",
       "      <td>1.0</td>\n",
       "      <td>2.0</td>\n",
       "      <td>0</td>\n",
       "      <td>0.0</td>\n",
       "      <td>1.0</td>\n",
       "      <td>0</td>\n",
       "      <td>2.929196</td>\n",
       "      <td>2</td>\n",
       "    </tr>\n",
       "    <tr>\n",
       "      <th>1</th>\n",
       "      <td>1002</td>\n",
       "      <td>18.0</td>\n",
       "      <td>0</td>\n",
       "      <td>0</td>\n",
       "      <td>1</td>\n",
       "      <td>15.408756</td>\n",
       "      <td>0.0</td>\n",
       "      <td>0.0</td>\n",
       "      <td>1.0</td>\n",
       "      <td>0</td>\n",
       "      <td>0.0</td>\n",
       "      <td>0.0</td>\n",
       "      <td>0</td>\n",
       "      <td>3.042915</td>\n",
       "      <td>1</td>\n",
       "    </tr>\n",
       "    <tr>\n",
       "      <th>2</th>\n",
       "      <td>1003</td>\n",
       "      <td>15.0</td>\n",
       "      <td>0</td>\n",
       "      <td>2</td>\n",
       "      <td>3</td>\n",
       "      <td>4.210570</td>\n",
       "      <td>26.0</td>\n",
       "      <td>0.0</td>\n",
       "      <td>2.0</td>\n",
       "      <td>0</td>\n",
       "      <td>0.0</td>\n",
       "      <td>0.0</td>\n",
       "      <td>0</td>\n",
       "      <td>0.112602</td>\n",
       "      <td>4</td>\n",
       "    </tr>\n",
       "    <tr>\n",
       "      <th>3</th>\n",
       "      <td>1004</td>\n",
       "      <td>17.0</td>\n",
       "      <td>1</td>\n",
       "      <td>0</td>\n",
       "      <td>3</td>\n",
       "      <td>10.028829</td>\n",
       "      <td>14.0</td>\n",
       "      <td>0.0</td>\n",
       "      <td>3.0</td>\n",
       "      <td>1</td>\n",
       "      <td>0.0</td>\n",
       "      <td>0.0</td>\n",
       "      <td>0</td>\n",
       "      <td>2.054218</td>\n",
       "      <td>3</td>\n",
       "    </tr>\n",
       "    <tr>\n",
       "      <th>4</th>\n",
       "      <td>1005</td>\n",
       "      <td>17.0</td>\n",
       "      <td>1</td>\n",
       "      <td>0</td>\n",
       "      <td>2</td>\n",
       "      <td>4.672495</td>\n",
       "      <td>17.0</td>\n",
       "      <td>1.0</td>\n",
       "      <td>3.0</td>\n",
       "      <td>0</td>\n",
       "      <td>0.0</td>\n",
       "      <td>0.0</td>\n",
       "      <td>0</td>\n",
       "      <td>1.288061</td>\n",
       "      <td>4</td>\n",
       "    </tr>\n",
       "    <tr>\n",
       "      <th>...</th>\n",
       "      <td>...</td>\n",
       "      <td>...</td>\n",
       "      <td>...</td>\n",
       "      <td>...</td>\n",
       "      <td>...</td>\n",
       "      <td>...</td>\n",
       "      <td>...</td>\n",
       "      <td>...</td>\n",
       "      <td>...</td>\n",
       "      <td>...</td>\n",
       "      <td>...</td>\n",
       "      <td>...</td>\n",
       "      <td>...</td>\n",
       "      <td>...</td>\n",
       "      <td>...</td>\n",
       "    </tr>\n",
       "    <tr>\n",
       "      <th>2387</th>\n",
       "      <td>3388</td>\n",
       "      <td>18.0</td>\n",
       "      <td>1</td>\n",
       "      <td>0</td>\n",
       "      <td>3</td>\n",
       "      <td>10.680555</td>\n",
       "      <td>2.0</td>\n",
       "      <td>0.0</td>\n",
       "      <td>4.0</td>\n",
       "      <td>1</td>\n",
       "      <td>0.0</td>\n",
       "      <td>0.0</td>\n",
       "      <td>0</td>\n",
       "      <td>3.455509</td>\n",
       "      <td>0</td>\n",
       "    </tr>\n",
       "    <tr>\n",
       "      <th>2388</th>\n",
       "      <td>3389</td>\n",
       "      <td>17.0</td>\n",
       "      <td>0</td>\n",
       "      <td>0</td>\n",
       "      <td>1</td>\n",
       "      <td>7.583217</td>\n",
       "      <td>4.0</td>\n",
       "      <td>1.0</td>\n",
       "      <td>4.0</td>\n",
       "      <td>0</td>\n",
       "      <td>1.0</td>\n",
       "      <td>0.0</td>\n",
       "      <td>0</td>\n",
       "      <td>3.279150</td>\n",
       "      <td>4</td>\n",
       "    </tr>\n",
       "    <tr>\n",
       "      <th>2389</th>\n",
       "      <td>3390</td>\n",
       "      <td>16.0</td>\n",
       "      <td>1</td>\n",
       "      <td>0</td>\n",
       "      <td>2</td>\n",
       "      <td>6.805500</td>\n",
       "      <td>20.0</td>\n",
       "      <td>0.0</td>\n",
       "      <td>2.0</td>\n",
       "      <td>0</td>\n",
       "      <td>0.0</td>\n",
       "      <td>0.0</td>\n",
       "      <td>1</td>\n",
       "      <td>1.142333</td>\n",
       "      <td>2</td>\n",
       "    </tr>\n",
       "    <tr>\n",
       "      <th>2390</th>\n",
       "      <td>3391</td>\n",
       "      <td>16.0</td>\n",
       "      <td>1</td>\n",
       "      <td>1</td>\n",
       "      <td>0</td>\n",
       "      <td>12.416653</td>\n",
       "      <td>17.0</td>\n",
       "      <td>0.0</td>\n",
       "      <td>2.0</td>\n",
       "      <td>0</td>\n",
       "      <td>1.0</td>\n",
       "      <td>1.0</td>\n",
       "      <td>0</td>\n",
       "      <td>1.803297</td>\n",
       "      <td>1</td>\n",
       "    </tr>\n",
       "    <tr>\n",
       "      <th>2391</th>\n",
       "      <td>3392</td>\n",
       "      <td>16.0</td>\n",
       "      <td>1</td>\n",
       "      <td>0</td>\n",
       "      <td>2</td>\n",
       "      <td>17.819907</td>\n",
       "      <td>13.0</td>\n",
       "      <td>0.0</td>\n",
       "      <td>2.0</td>\n",
       "      <td>0</td>\n",
       "      <td>0.0</td>\n",
       "      <td>0.0</td>\n",
       "      <td>1</td>\n",
       "      <td>2.140014</td>\n",
       "      <td>1</td>\n",
       "    </tr>\n",
       "  </tbody>\n",
       "</table>\n",
       "<p>2392 rows × 15 columns</p>\n",
       "</div>"
      ],
      "text/plain": [
       "      StudentID   Age  Gender  Ethnicity  ParentalEducation  StudyTimeWeekly  \\\n",
       "0          1001  17.0       1          0                  2        19.833723   \n",
       "1          1002  18.0       0          0                  1        15.408756   \n",
       "2          1003  15.0       0          2                  3         4.210570   \n",
       "3          1004  17.0       1          0                  3        10.028829   \n",
       "4          1005  17.0       1          0                  2         4.672495   \n",
       "...         ...   ...     ...        ...                ...              ...   \n",
       "2387       3388  18.0       1          0                  3        10.680555   \n",
       "2388       3389  17.0       0          0                  1         7.583217   \n",
       "2389       3390  16.0       1          0                  2         6.805500   \n",
       "2390       3391  16.0       1          1                  0        12.416653   \n",
       "2391       3392  16.0       1          0                  2        17.819907   \n",
       "\n",
       "      Absences  Tutoring  ParentalSupport  Extracurricular  Sports  Music  \\\n",
       "0          7.0       1.0              2.0                0     0.0    1.0   \n",
       "1          0.0       0.0              1.0                0     0.0    0.0   \n",
       "2         26.0       0.0              2.0                0     0.0    0.0   \n",
       "3         14.0       0.0              3.0                1     0.0    0.0   \n",
       "4         17.0       1.0              3.0                0     0.0    0.0   \n",
       "...        ...       ...              ...              ...     ...    ...   \n",
       "2387       2.0       0.0              4.0                1     0.0    0.0   \n",
       "2388       4.0       1.0              4.0                0     1.0    0.0   \n",
       "2389      20.0       0.0              2.0                0     0.0    0.0   \n",
       "2390      17.0       0.0              2.0                0     1.0    1.0   \n",
       "2391      13.0       0.0              2.0                0     0.0    0.0   \n",
       "\n",
       "      Volunteering       GPA  GradeClass  \n",
       "0                0  2.929196           2  \n",
       "1                0  3.042915           1  \n",
       "2                0  0.112602           4  \n",
       "3                0  2.054218           3  \n",
       "4                0  1.288061           4  \n",
       "...            ...       ...         ...  \n",
       "2387             0  3.455509           0  \n",
       "2388             0  3.279150           4  \n",
       "2389             1  1.142333           2  \n",
       "2390             0  1.803297           1  \n",
       "2391             1  2.140014           1  \n",
       "\n",
       "[2392 rows x 15 columns]"
      ]
     },
     "execution_count": 3,
     "metadata": {},
     "output_type": "execute_result"
    }
   ],
   "source": [
    "# Defining dataSet csv file path\n",
    "filepath=\"C:\\\\Users\\\\ASUS\\\\jupyterworkspace\\\\Assignment & Mini Project\\\\Module_02_Feature Engineering\\\\Assignment\\\\Student_performance_data.csv\"\n",
    "#Loading dataSet\n",
    "dataRead=pd.read_csv(filepath)\n",
    "#printing dataSet\n",
    "dataRead"
   ]
  },
  {
   "cell_type": "markdown",
   "id": "aacb32a4-784c-4ca4-add2-a78d7ffe9d13",
   "metadata": {},
   "source": [
    "## Task 1 : Identify the type of each of the attributes in the dataset."
   ]
  },
  {
   "cell_type": "markdown",
   "id": "0508705a-e3c7-4053-9700-e8d8ba5af172",
   "metadata": {},
   "source": [
    "### DataTypes of each features/attributes"
   ]
  },
  {
   "cell_type": "code",
   "execution_count": 4,
   "id": "07a26bd2-2edf-4e72-b1f5-34cf24f9efa6",
   "metadata": {},
   "outputs": [
    {
     "data": {
      "text/html": [
       "<div>\n",
       "<style scoped>\n",
       "    .dataframe tbody tr th:only-of-type {\n",
       "        vertical-align: middle;\n",
       "    }\n",
       "\n",
       "    .dataframe tbody tr th {\n",
       "        vertical-align: top;\n",
       "    }\n",
       "\n",
       "    .dataframe thead th {\n",
       "        text-align: right;\n",
       "    }\n",
       "</style>\n",
       "<table border=\"1\" class=\"dataframe\">\n",
       "  <thead>\n",
       "    <tr style=\"text-align: right;\">\n",
       "      <th></th>\n",
       "      <th>StudentID</th>\n",
       "      <th>Age</th>\n",
       "      <th>Gender</th>\n",
       "      <th>Ethnicity</th>\n",
       "      <th>ParentalEducation</th>\n",
       "      <th>StudyTimeWeekly</th>\n",
       "      <th>Absences</th>\n",
       "      <th>Tutoring</th>\n",
       "      <th>ParentalSupport</th>\n",
       "      <th>Extracurricular</th>\n",
       "      <th>Sports</th>\n",
       "      <th>Music</th>\n",
       "      <th>Volunteering</th>\n",
       "      <th>GPA</th>\n",
       "      <th>GradeClass</th>\n",
       "    </tr>\n",
       "  </thead>\n",
       "  <tbody>\n",
       "    <tr>\n",
       "      <th>count</th>\n",
       "      <td>2392.000000</td>\n",
       "      <td>2375.000000</td>\n",
       "      <td>2392.000000</td>\n",
       "      <td>2392.000000</td>\n",
       "      <td>2392.000000</td>\n",
       "      <td>2358.000000</td>\n",
       "      <td>2380.000000</td>\n",
       "      <td>2367.000000</td>\n",
       "      <td>2378.000000</td>\n",
       "      <td>2392.000000</td>\n",
       "      <td>2381.000000</td>\n",
       "      <td>2180.000000</td>\n",
       "      <td>2392.000000</td>\n",
       "      <td>2392.000000</td>\n",
       "      <td>2392.000000</td>\n",
       "    </tr>\n",
       "    <tr>\n",
       "      <th>mean</th>\n",
       "      <td>2196.500000</td>\n",
       "      <td>16.468632</td>\n",
       "      <td>0.510870</td>\n",
       "      <td>0.877508</td>\n",
       "      <td>1.746237</td>\n",
       "      <td>9.761567</td>\n",
       "      <td>14.546639</td>\n",
       "      <td>0.301225</td>\n",
       "      <td>2.122372</td>\n",
       "      <td>0.383361</td>\n",
       "      <td>0.303234</td>\n",
       "      <td>0.197248</td>\n",
       "      <td>0.157191</td>\n",
       "      <td>1.906186</td>\n",
       "      <td>2.983696</td>\n",
       "    </tr>\n",
       "    <tr>\n",
       "      <th>std</th>\n",
       "      <td>690.655244</td>\n",
       "      <td>1.124404</td>\n",
       "      <td>0.499986</td>\n",
       "      <td>1.028476</td>\n",
       "      <td>1.000411</td>\n",
       "      <td>5.658241</td>\n",
       "      <td>8.463651</td>\n",
       "      <td>0.458887</td>\n",
       "      <td>1.122941</td>\n",
       "      <td>0.486307</td>\n",
       "      <td>0.459752</td>\n",
       "      <td>0.398012</td>\n",
       "      <td>0.364057</td>\n",
       "      <td>0.915156</td>\n",
       "      <td>1.233908</td>\n",
       "    </tr>\n",
       "    <tr>\n",
       "      <th>min</th>\n",
       "      <td>1001.000000</td>\n",
       "      <td>15.000000</td>\n",
       "      <td>0.000000</td>\n",
       "      <td>0.000000</td>\n",
       "      <td>0.000000</td>\n",
       "      <td>0.001057</td>\n",
       "      <td>0.000000</td>\n",
       "      <td>0.000000</td>\n",
       "      <td>0.000000</td>\n",
       "      <td>0.000000</td>\n",
       "      <td>0.000000</td>\n",
       "      <td>0.000000</td>\n",
       "      <td>0.000000</td>\n",
       "      <td>0.000000</td>\n",
       "      <td>0.000000</td>\n",
       "    </tr>\n",
       "    <tr>\n",
       "      <th>25%</th>\n",
       "      <td>1598.750000</td>\n",
       "      <td>15.000000</td>\n",
       "      <td>0.000000</td>\n",
       "      <td>0.000000</td>\n",
       "      <td>1.000000</td>\n",
       "      <td>5.030526</td>\n",
       "      <td>7.000000</td>\n",
       "      <td>0.000000</td>\n",
       "      <td>1.000000</td>\n",
       "      <td>0.000000</td>\n",
       "      <td>0.000000</td>\n",
       "      <td>0.000000</td>\n",
       "      <td>0.000000</td>\n",
       "      <td>1.174803</td>\n",
       "      <td>2.000000</td>\n",
       "    </tr>\n",
       "    <tr>\n",
       "      <th>50%</th>\n",
       "      <td>2196.500000</td>\n",
       "      <td>16.000000</td>\n",
       "      <td>1.000000</td>\n",
       "      <td>0.000000</td>\n",
       "      <td>2.000000</td>\n",
       "      <td>9.653180</td>\n",
       "      <td>15.000000</td>\n",
       "      <td>0.000000</td>\n",
       "      <td>2.000000</td>\n",
       "      <td>0.000000</td>\n",
       "      <td>0.000000</td>\n",
       "      <td>0.000000</td>\n",
       "      <td>0.000000</td>\n",
       "      <td>1.893393</td>\n",
       "      <td>4.000000</td>\n",
       "    </tr>\n",
       "    <tr>\n",
       "      <th>75%</th>\n",
       "      <td>2794.250000</td>\n",
       "      <td>17.000000</td>\n",
       "      <td>1.000000</td>\n",
       "      <td>2.000000</td>\n",
       "      <td>2.000000</td>\n",
       "      <td>14.408107</td>\n",
       "      <td>22.000000</td>\n",
       "      <td>1.000000</td>\n",
       "      <td>3.000000</td>\n",
       "      <td>1.000000</td>\n",
       "      <td>1.000000</td>\n",
       "      <td>0.000000</td>\n",
       "      <td>0.000000</td>\n",
       "      <td>2.622216</td>\n",
       "      <td>4.000000</td>\n",
       "    </tr>\n",
       "    <tr>\n",
       "      <th>max</th>\n",
       "      <td>3392.000000</td>\n",
       "      <td>18.000000</td>\n",
       "      <td>1.000000</td>\n",
       "      <td>3.000000</td>\n",
       "      <td>4.000000</td>\n",
       "      <td>19.978094</td>\n",
       "      <td>29.000000</td>\n",
       "      <td>1.000000</td>\n",
       "      <td>4.000000</td>\n",
       "      <td>1.000000</td>\n",
       "      <td>1.000000</td>\n",
       "      <td>1.000000</td>\n",
       "      <td>1.000000</td>\n",
       "      <td>4.000000</td>\n",
       "      <td>4.000000</td>\n",
       "    </tr>\n",
       "  </tbody>\n",
       "</table>\n",
       "</div>"
      ],
      "text/plain": [
       "         StudentID          Age       Gender    Ethnicity  ParentalEducation  \\\n",
       "count  2392.000000  2375.000000  2392.000000  2392.000000        2392.000000   \n",
       "mean   2196.500000    16.468632     0.510870     0.877508           1.746237   \n",
       "std     690.655244     1.124404     0.499986     1.028476           1.000411   \n",
       "min    1001.000000    15.000000     0.000000     0.000000           0.000000   \n",
       "25%    1598.750000    15.000000     0.000000     0.000000           1.000000   \n",
       "50%    2196.500000    16.000000     1.000000     0.000000           2.000000   \n",
       "75%    2794.250000    17.000000     1.000000     2.000000           2.000000   \n",
       "max    3392.000000    18.000000     1.000000     3.000000           4.000000   \n",
       "\n",
       "       StudyTimeWeekly     Absences     Tutoring  ParentalSupport  \\\n",
       "count      2358.000000  2380.000000  2367.000000      2378.000000   \n",
       "mean          9.761567    14.546639     0.301225         2.122372   \n",
       "std           5.658241     8.463651     0.458887         1.122941   \n",
       "min           0.001057     0.000000     0.000000         0.000000   \n",
       "25%           5.030526     7.000000     0.000000         1.000000   \n",
       "50%           9.653180    15.000000     0.000000         2.000000   \n",
       "75%          14.408107    22.000000     1.000000         3.000000   \n",
       "max          19.978094    29.000000     1.000000         4.000000   \n",
       "\n",
       "       Extracurricular       Sports        Music  Volunteering          GPA  \\\n",
       "count      2392.000000  2381.000000  2180.000000   2392.000000  2392.000000   \n",
       "mean          0.383361     0.303234     0.197248      0.157191     1.906186   \n",
       "std           0.486307     0.459752     0.398012      0.364057     0.915156   \n",
       "min           0.000000     0.000000     0.000000      0.000000     0.000000   \n",
       "25%           0.000000     0.000000     0.000000      0.000000     1.174803   \n",
       "50%           0.000000     0.000000     0.000000      0.000000     1.893393   \n",
       "75%           1.000000     1.000000     0.000000      0.000000     2.622216   \n",
       "max           1.000000     1.000000     1.000000      1.000000     4.000000   \n",
       "\n",
       "        GradeClass  \n",
       "count  2392.000000  \n",
       "mean      2.983696  \n",
       "std       1.233908  \n",
       "min       0.000000  \n",
       "25%       2.000000  \n",
       "50%       4.000000  \n",
       "75%       4.000000  \n",
       "max       4.000000  "
      ]
     },
     "execution_count": 4,
     "metadata": {},
     "output_type": "execute_result"
    }
   ],
   "source": [
    "# Checking descriptive statistic of the dataSet\n",
    "dataRead.describe()"
   ]
  },
  {
   "cell_type": "code",
   "execution_count": 5,
   "id": "1608217e-30b5-4dfe-b971-d1e861543a05",
   "metadata": {},
   "outputs": [
    {
     "data": {
      "text/plain": [
       "StudentID              int64\n",
       "Age                  float64\n",
       "Gender                 int64\n",
       "Ethnicity              int64\n",
       "ParentalEducation      int64\n",
       "StudyTimeWeekly      float64\n",
       "Absences             float64\n",
       "Tutoring             float64\n",
       "ParentalSupport      float64\n",
       "Extracurricular        int64\n",
       "Sports               float64\n",
       "Music                float64\n",
       "Volunteering           int64\n",
       "GPA                  float64\n",
       "GradeClass             int64\n",
       "dtype: object"
      ]
     },
     "execution_count": 5,
     "metadata": {},
     "output_type": "execute_result"
    }
   ],
   "source": [
    "#checking datatypes of each features/attributes for the dataSet\n",
    "dataRead.dtypes"
   ]
  },
  {
   "cell_type": "markdown",
   "id": "1e002d46-d405-4dfb-aa92-524f96ab6242",
   "metadata": {},
   "source": [
    "### Attributes/Features types"
   ]
  },
  {
   "cell_type": "markdown",
   "id": "3565b150-5df4-43bd-95a6-9bb1d3f7709e",
   "metadata": {},
   "source": [
    "### Below mentioning identification of each attributes/features from dataSet\n",
    "StudentID          : Nominal Discrete  \n",
    "Age                : Ratio Continuous  \n",
    "Gender             : Nominal Discrete   \n",
    "Ethinicity         : Nominal Discrete  \n",
    "ParentalEducation  : Ordinal Discrete   \n",
    "StudyTimeWeekly    : Ratio Continuous  \n",
    "Absences           : Interval Discrete  \n",
    "Tutoring           : Nominal Discrete    \n",
    "ParentalSupport    : Ordinal Discrete  \n",
    "Extracurricular    : Nominal Discrete    \n",
    "Sports             : Nominal Discrete  \n",
    "Music              : Nominal Discrete    \n",
    "Volunteering       : Nominal Discrete  \n",
    "GPA                : Ratio Continuous  \n",
    "GradeClass         : Ordinal Discrete"
   ]
  },
  {
   "cell_type": "markdown",
   "id": "dd267168-abcd-4f2d-ae6a-5f43d65d2b87",
   "metadata": {},
   "source": [
    "## Task 2: Name the attribute(s) which have missing data. How many data points are missing? How will you handle missing data"
   ]
  },
  {
   "cell_type": "markdown",
   "id": "eec0ddf4-b81a-4b7e-9eec-21f54c9f85b6",
   "metadata": {},
   "source": [
    "### Attributes name of missing data"
   ]
  },
  {
   "cell_type": "code",
   "execution_count": 6,
   "id": "5d766375-d9b2-410a-925d-59a46236032f",
   "metadata": {},
   "outputs": [
    {
     "name": "stdout",
     "output_type": "stream",
     "text": [
      "StudentID              0\n",
      "Age                   17\n",
      "Gender                 0\n",
      "Ethnicity              0\n",
      "ParentalEducation      0\n",
      "StudyTimeWeekly       34\n",
      "Absences              12\n",
      "Tutoring              25\n",
      "ParentalSupport       14\n",
      "Extracurricular        0\n",
      "Sports                11\n",
      "Music                212\n",
      "Volunteering           0\n",
      "GPA                    0\n",
      "GradeClass             0\n",
      "dtype: int64\n"
     ]
    }
   ],
   "source": [
    "#Finding total no. of missing values for attributes specific\n",
    "missingValue_Count=dataRead.isnull().sum()\n",
    "print(missingValue_Count)"
   ]
  },
  {
   "cell_type": "code",
   "execution_count": 7,
   "id": "dfafd46b-3384-49b6-b920-0e523260fc2f",
   "metadata": {},
   "outputs": [
    {
     "name": "stdout",
     "output_type": "stream",
     "text": [
      "Age                 17\n",
      "StudyTimeWeekly     34\n",
      "Absences            12\n",
      "Tutoring            25\n",
      "ParentalSupport     14\n",
      "Sports              11\n",
      "Music              212\n",
      "dtype: int64\n",
      "Below is the list of  missing values attributes:- \n",
      "Index(['Age', 'StudyTimeWeekly', 'Absences', 'Tutoring', 'ParentalSupport',\n",
      "       'Sports', 'Music'],\n",
      "      dtype='object')\n"
     ]
    }
   ],
   "source": [
    "#finding missing values attribues with counts\n",
    "missingValue_attributes=missingValue_Count[missingValue_Count.where(missingValue_Count.values>0).notnull()]\n",
    "print(missingValue_attributes)\n",
    "#Finding the attributes's key which have missing values\n",
    "print(\"Below is the list of  missing values attributes:- \")\n",
    "print(missingValue_attributes.keys())"
   ]
  },
  {
   "cell_type": "code",
   "execution_count": 8,
   "id": "a8ea66e9-764e-42f8-946a-12f414f89b54",
   "metadata": {},
   "outputs": [
    {
     "name": "stdout",
     "output_type": "stream",
     "text": [
      "total no. of missing values is :- 325 \n"
     ]
    }
   ],
   "source": [
    "#Finding total no. of missing values for dataSet\n",
    "total_missingvalue_Count=missingValue_Count.sum()\n",
    "print(\"total no. of missing values is :- {} \".format(total_missingvalue_Count))"
   ]
  },
  {
   "cell_type": "markdown",
   "id": "b435cf97-7161-49ab-aa38-b8add95be7e5",
   "metadata": {},
   "source": [
    "### Logic to handle missing values"
   ]
  },
  {
   "cell_type": "markdown",
   "id": "1201c3a3-6473-479d-a198-d30483660cea",
   "metadata": {},
   "source": [
    "#### Handling & imputing missing values for \"Age\" attribute"
   ]
  },
  {
   "cell_type": "code",
   "execution_count": 9,
   "id": "ca79f27f-100f-4d76-9a7d-e3bd35e95a95",
   "metadata": {},
   "outputs": [
    {
     "name": "stdout",
     "output_type": "stream",
     "text": [
      "Age mean :16\n",
      "Age median :16\n",
      "Age mode :15\n",
      "Age value counts:Age\n",
      "15.0    626\n",
      "16.0    589\n",
      "17.0    581\n",
      "18.0    579\n",
      "Name: count, dtype: int64\n"
     ]
    }
   ],
   "source": [
    "#calculating mean of \"Age\" attribute\n",
    "print(\"Age mean :{}\".format(math.floor(dataRead.Age.mean())))\n",
    "#calculating median of \"Age\" attribute\n",
    "print(\"Age median :{}\".format(math.floor(dataRead.Age.median())))\n",
    "#calculating mode of \"Age\" attribute\n",
    "print(\"Age mode :{}\".format(math.floor(dataRead.Age.mode()[0])))\n",
    "#calculating value counts of \"Age\" attribute\n",
    "print(\"Age value counts:{}\".format(dataRead.Age.value_counts()))"
   ]
  },
  {
   "cell_type": "markdown",
   "id": "a58897b9-df97-4417-ad0d-7bdefbe6f884",
   "metadata": {},
   "source": [
    "##### Observation:- \"Age\" is a numercial variable. Mean and median are almost same and value counts are also almost same, we can fill missing values with mean"
   ]
  },
  {
   "cell_type": "code",
   "execution_count": 10,
   "id": "c09d1875-4ba7-4cda-86d3-b96821583f4a",
   "metadata": {},
   "outputs": [],
   "source": [
    "# Imputing missing values by mean for \"Age\" attribute\n",
    "age_mean = round(dataRead.Age.mean(),0)\n",
    "dataRead.Age.fillna(age_mean, inplace=True)"
   ]
  },
  {
   "cell_type": "markdown",
   "id": "2ff4b32c-d6b2-4fc3-ab09-f9199c2bc2f5",
   "metadata": {},
   "source": [
    "#### Handling & imputing missing values for \"StudyTimeWeekly\" attribute"
   ]
  },
  {
   "cell_type": "code",
   "execution_count": 11,
   "id": "bfc3a2e6-0d7b-44fa-9893-03d35b16b194",
   "metadata": {},
   "outputs": [
    {
     "name": "stdout",
     "output_type": "stream",
     "text": [
      "StudyTimeWeekly mean :9.76156738078414\n",
      "StudyTimeWeekly median :9.653180382\n",
      "StudyTimeWeekly mode :0.001056539\n",
      "StudyTimeWeekly value counts:StudyTimeWeekly\n",
      "19.833723    1\n",
      "8.745633     1\n",
      "15.457479    1\n",
      "6.779399     1\n",
      "2.861628     1\n",
      "            ..\n",
      "4.190384     1\n",
      "9.106575     1\n",
      "18.168751    1\n",
      "2.089606     1\n",
      "17.819907    1\n",
      "Name: count, Length: 2358, dtype: int64\n"
     ]
    }
   ],
   "source": [
    "#calculating mean of \"StudyTimeWeekly\" attribute\n",
    "print(\"StudyTimeWeekly mean :{}\".format(dataRead.StudyTimeWeekly.mean()))\n",
    "#calculating median of \"StudyTimeWeekly\" attribute\n",
    "print(\"StudyTimeWeekly median :{}\".format(dataRead.StudyTimeWeekly.median()))\n",
    "#calculating mode of \"StudyTimeWeekly\" attribute\n",
    "print(\"StudyTimeWeekly mode :{}\".format(dataRead.StudyTimeWeekly.mode()[0]))\n",
    "#calculating value counts of \"StudyTimeWeekly\" attribute\n",
    "print(\"StudyTimeWeekly value counts:{}\".format(dataRead.StudyTimeWeekly.value_counts()))"
   ]
  },
  {
   "cell_type": "markdown",
   "id": "a4e3d960-e519-4326-8118-374b1623fc20",
   "metadata": {},
   "source": [
    "##### Observation:- \"StudyTimeWeekly\" is a numercial variable. Mean and median are almost same and value counts are unique, we can fill missing values with mean"
   ]
  },
  {
   "cell_type": "code",
   "execution_count": 12,
   "id": "7d05811d-28c7-4cb9-b0a5-0f3e0eccfbc4",
   "metadata": {},
   "outputs": [],
   "source": [
    "# Imputing missing values by mean for \"StudyTimeWeekly\" attribute\n",
    "StudyTimeWeekly_mean = dataRead['StudyTimeWeekly'].mean()\n",
    "dataRead['StudyTimeWeekly'].fillna(StudyTimeWeekly_mean, inplace=True)"
   ]
  },
  {
   "cell_type": "markdown",
   "id": "45926e65-9501-47d0-8a0b-bb01a34c22ee",
   "metadata": {},
   "source": [
    "#### Handling & imputing missing values for \"Absences\" attribute"
   ]
  },
  {
   "cell_type": "code",
   "execution_count": 13,
   "id": "6ad6fe7f-9adf-4e3c-8003-db19587784e3",
   "metadata": {},
   "outputs": [
    {
     "name": "stdout",
     "output_type": "stream",
     "text": [
      "Absences mean :14.546638655462186\n",
      "Absences median :15.0\n",
      "Absences mode :13.0\n",
      "Absences value counts:Absences\n",
      "13.0    93\n",
      "12.0    92\n",
      "25.0    91\n",
      "19.0    90\n",
      "8.0     90\n",
      "20.0    88\n",
      "15.0    87\n",
      "6.0     87\n",
      "23.0    86\n",
      "7.0     86\n",
      "1.0     84\n",
      "21.0    83\n",
      "14.0    83\n",
      "27.0    83\n",
      "5.0     82\n",
      "17.0    81\n",
      "24.0    81\n",
      "26.0    80\n",
      "3.0     79\n",
      "16.0    79\n",
      "18.0    79\n",
      "11.0    71\n",
      "22.0    71\n",
      "29.0    69\n",
      "4.0     69\n",
      "2.0     68\n",
      "0.0     67\n",
      "9.0     66\n",
      "10.0    61\n",
      "28.0    54\n",
      "Name: count, dtype: int64\n"
     ]
    }
   ],
   "source": [
    "#calculating mean of \"Absences\" attribute\n",
    "print(\"Absences mean :{}\".format(dataRead.Absences.mean()))\n",
    "#calculating median of \"Absences\" attribute\n",
    "print(\"Absences median :{}\".format(dataRead.Absences.median()))\n",
    "#calculating mode of \"Absences\" attribute\n",
    "print(\"Absences mode :{}\".format(dataRead.Absences.mode()[0]))\n",
    "#calculating value counts of \"Absences\" attribute\n",
    "print(\"Absences value counts:{}\".format(dataRead.Absences.value_counts()))"
   ]
  },
  {
   "cell_type": "markdown",
   "id": "b8b5406a-b702-494e-8256-46228688e5e8",
   "metadata": {},
   "source": [
    "##### Observation:- \"Absences\" is a numercial variable. Mean and median are almost same and most of the values are have same number of distribution,, we can fill missing values with mean"
   ]
  },
  {
   "cell_type": "code",
   "execution_count": 14,
   "id": "39132401-a5ee-40ac-a182-76c0d39dca0b",
   "metadata": {},
   "outputs": [],
   "source": [
    "# Imputing missing values by mean for \"Absences\" attribute\n",
    "Absences_mean = dataRead['Absences'].mean()\n",
    "dataRead['Absences'].fillna(Absences_mean, inplace=True)"
   ]
  },
  {
   "cell_type": "markdown",
   "id": "e5698a85-05b5-4cc2-838a-49d8a9ef6b73",
   "metadata": {},
   "source": [
    "#### Handlin & imputing missing values for \"Tutoring\" attribute"
   ]
  },
  {
   "cell_type": "code",
   "execution_count": 15,
   "id": "134b2e78-c613-48d9-9693-2c838b7a3f74",
   "metadata": {},
   "outputs": [
    {
     "name": "stdout",
     "output_type": "stream",
     "text": [
      "Tutoring mode :0.0\n",
      "Tutoring value counts:Tutoring\n",
      "0.0    1654\n",
      "1.0     713\n",
      "Name: count, dtype: int64\n"
     ]
    }
   ],
   "source": [
    "#calculating mode of \"Tutoring\" attribute\n",
    "print(\"Tutoring mode :{}\".format(dataRead.Tutoring.mode()[0]))\n",
    "#calculating value counts of \"Tutoring\" attribute\n",
    "print(\"Tutoring value counts:{}\".format(dataRead.Tutoring.value_counts()))"
   ]
  },
  {
   "cell_type": "markdown",
   "id": "e7080959-8893-4d80-9479-8192b87f0aa7",
   "metadata": {},
   "source": [
    "##### Observation:- \"Tutoring\" is a categorical nominal variable.we can fill missing values with mode"
   ]
  },
  {
   "cell_type": "code",
   "execution_count": 16,
   "id": "72d4efcb-8e45-421b-a0d7-b2cd4a2a34f8",
   "metadata": {},
   "outputs": [],
   "source": [
    "# Imputing missing values by mode for \"Tutoring\" attribute\n",
    "Tutoring_mode = dataRead['Tutoring'].mode()[0]\n",
    "dataRead['Tutoring'].fillna(Tutoring_mode, inplace=True)"
   ]
  },
  {
   "cell_type": "markdown",
   "id": "7db2c3fe-34f3-4cb7-836a-a09efc89b2d8",
   "metadata": {},
   "source": [
    "#### Handlin & imputing missing values for \"ParentalSupport\" attribute"
   ]
  },
  {
   "cell_type": "code",
   "execution_count": 17,
   "id": "c2d20626-8d87-4cb6-8f13-839d1055ca85",
   "metadata": {},
   "outputs": [
    {
     "name": "stdout",
     "output_type": "stream",
     "text": [
      "ParentalSupport mode :2.0\n",
      "ParentalSupport value counts:ParentalSupport\n",
      "2.0    737\n",
      "3.0    692\n",
      "1.0    485\n",
      "4.0    253\n",
      "0.0    211\n",
      "Name: count, dtype: int64\n"
     ]
    }
   ],
   "source": [
    "#calculating mode of \"ParentalSupport\" attribute\n",
    "print(\"ParentalSupport mode :{}\".format(dataRead.ParentalSupport.mode()[0]))\n",
    "#calculating value counts of \"ParentalSupport\" attribute\n",
    "print(\"ParentalSupport value counts:{}\".format(dataRead.ParentalSupport.value_counts()))"
   ]
  },
  {
   "cell_type": "markdown",
   "id": "21c64621-df73-49ff-8043-efbf62c093b3",
   "metadata": {},
   "source": [
    "##### Observation:- \"ParentalSupport\" is a categorical ordinal variable.we can fill missing values with mode"
   ]
  },
  {
   "cell_type": "code",
   "execution_count": 18,
   "id": "e8167cdb-3b8d-4dcc-84ba-cc2e31034ce6",
   "metadata": {},
   "outputs": [],
   "source": [
    "# Imputing missing values by mode for \"ParentalSupport\" attribute\n",
    "ParentalSupport_mode = dataRead['ParentalSupport'].mode()[0]\n",
    "dataRead['ParentalSupport'].fillna(ParentalSupport_mode, inplace=True)"
   ]
  },
  {
   "cell_type": "markdown",
   "id": "52149d94-7d13-4615-b011-01f5cf09e3f8",
   "metadata": {},
   "source": [
    "#### Handlin & imputing missing values for \"Sports\" attribute"
   ]
  },
  {
   "cell_type": "code",
   "execution_count": 19,
   "id": "8c2c0a61-54e6-4d91-813a-7fde7d0c957c",
   "metadata": {},
   "outputs": [
    {
     "name": "stdout",
     "output_type": "stream",
     "text": [
      "Sports mode :0.0\n",
      "Sports value counts:Sports\n",
      "0.0    1659\n",
      "1.0     722\n",
      "Name: count, dtype: int64\n"
     ]
    }
   ],
   "source": [
    "#calculating mode of \"Sports\" attribute\n",
    "print(\"Sports mode :{}\".format(dataRead.Sports.mode()[0]))\n",
    "#calculating value counts of \"Sports\" attribute\n",
    "print(\"Sports value counts:{}\".format(dataRead.Sports.value_counts()))"
   ]
  },
  {
   "cell_type": "markdown",
   "id": "37844035-b506-4cf1-911e-fe6c89378419",
   "metadata": {},
   "source": [
    "##### Observation:- \"Sports\" is a categorical nominal variable.we can fill missing values with mode"
   ]
  },
  {
   "cell_type": "code",
   "execution_count": 20,
   "id": "ded29ace-363f-4aa2-9021-0d11477ce415",
   "metadata": {},
   "outputs": [],
   "source": [
    "# Imputing missing values by mode for \"Sports\" attribute\n",
    "Sports_mode = dataRead['Sports'].mode()[0]\n",
    "dataRead['Sports'].fillna(Sports_mode, inplace=True)"
   ]
  },
  {
   "cell_type": "markdown",
   "id": "1f2231de-6edc-47de-8989-113356cff624",
   "metadata": {},
   "source": [
    "#### Handlin & imputing missing values for \"Music\" attribute"
   ]
  },
  {
   "cell_type": "code",
   "execution_count": 21,
   "id": "6e162fef-7845-454f-a610-acd52f52999f",
   "metadata": {},
   "outputs": [
    {
     "name": "stdout",
     "output_type": "stream",
     "text": [
      "Music mode :0.0\n",
      "Music value counts:Music\n",
      "0.0    1750\n",
      "1.0     430\n",
      "Name: count, dtype: int64\n"
     ]
    }
   ],
   "source": [
    "#calculating mode of \"Music\" attribute\n",
    "print(\"Music mode :{}\".format(dataRead.Sports.mode()[0]))\n",
    "#calculating value counts of \"Music\" attribute\n",
    "print(\"Music value counts:{}\".format(dataRead.Music.value_counts()))"
   ]
  },
  {
   "cell_type": "markdown",
   "id": "a62c63b7-3f73-483a-9c34-94a30456378a",
   "metadata": {},
   "source": [
    "##### Observation:- \"Music\" is a categorical nominal variable.we can fill missing values with mode"
   ]
  },
  {
   "cell_type": "code",
   "execution_count": 22,
   "id": "fd243eaa-bf7b-4bc9-9ca5-4d8dd8afb5a2",
   "metadata": {},
   "outputs": [],
   "source": [
    "# Imputing missing values by mode for \"Music\" attribute\n",
    "Music_mode = dataRead['Music'].mode()[0]\n",
    "dataRead['Music'].fillna(Music_mode, inplace=True)"
   ]
  },
  {
   "cell_type": "markdown",
   "id": "7749947e-5b72-4efc-8f33-8fa28fa3cf2f",
   "metadata": {},
   "source": [
    "## Task 3: Give the reasons for each column that how you are handling the data."
   ]
  },
  {
   "cell_type": "markdown",
   "id": "0bb6067e-69a0-494f-ae24-ed7d2bf449ff",
   "metadata": {},
   "source": [
    "####\n",
    "1- \"Age\" is a numercial variable. Mean and median are almost same and value counts are also almost same, we can fill missing values with mean.\n",
    "\n",
    "2- \"StudyTimeWeekly\" is a numercial variable. Mean and median are almost same and value counts are unique, we can fill missing values with mean\n",
    "\n",
    "3-  \"Absences\" is a numercial variable. Mean and median are almost same and most of the values are have same number of distribution,, we can fill  \n",
    "     missing values with mean\n",
    "\n",
    "4- \"Tutoring\" is a categorical nominal variable.we can fill missing values with mode.\n",
    "\n",
    "5- \"ParentalSupport\" is a categorical ordinal variable.we can fill missing values with mode\n",
    "\n",
    "6- \"Sports\" is a categorical nominal variable.we can fill missing values with mode\n",
    "\n",
    "7- \"Music\" is a categorical nominal variable.we can fill missing values with mode"
   ]
  },
  {
   "cell_type": "markdown",
   "id": "85589e9a-3242-452b-86ba-23f5b3de5b50",
   "metadata": {},
   "source": [
    "### Outlier Check for numerical variables"
   ]
  },
  {
   "cell_type": "code",
   "execution_count": 23,
   "id": "98790100-b4e1-47af-9e46-0e77b3f5ad4f",
   "metadata": {},
   "outputs": [
    {
     "data": {
      "image/png": "[encoded data removed]",
      "text/plain": [
       "<Figure size 1500x3000 with 3 Axes>"
      ]
     },
     "metadata": {},
     "output_type": "display_data"
    }
   ],
   "source": [
    "# taking list of all numerocal attributes\n",
    "numerical_attributes = ['Age', 'StudyTimeWeekly', 'Absences']\n",
    "dataRead_new = dataRead[numerical_attributes]\n",
    "# Set the parameters that control the general style of the plots.\n",
    "sbn.set_style(\"darkgrid\") \n",
    "# Selecting all numerical attributes columns names \n",
    "cols = dataRead_new.columns\n",
    "#Plotting Box plot for each numerical attributes\n",
    "plt.figure(figsize=(15, 30) )\n",
    "for count, item in enumerate(cols, 1): \n",
    "    plt.subplot(4, 3, count) \n",
    "    sbn.boxplot(dataRead_new[item])\n",
    "    plt.title(f\"Variable Name : {item}\")\n",
    "\n",
    "plt.tight_layout() \n",
    "plt.show() "
   ]
  },
  {
   "cell_type": "markdown",
   "id": "e0147bfe-f408-4aec-8bea-d9123ced01a8",
   "metadata": {},
   "source": [
    "##### Observation:- From the above box plots it shows that there are no outliers in the numerical attributes data"
   ]
  },
  {
   "cell_type": "markdown",
   "id": "b3e08fc7-9200-48ab-a2e2-5f5f610795a5",
   "metadata": {},
   "source": [
    "## Task 4: Perform normalization of all numeric attributes"
   ]
  },
  {
   "cell_type": "markdown",
   "id": "efc933b0-b722-4be6-9845-324b315f170f",
   "metadata": {},
   "source": [
    "### Min Max Scaler is used to perform normalization only for three numerical varaibles which are Age, StudyTimeweekly and Absences, as GPA is a target varaible mentioned in the assignment question , hence normalization has not been applied on it"
   ]
  },
  {
   "cell_type": "code",
   "execution_count": 39,
   "id": "f3337e6d-1c0a-4e3c-ad68-dca586f7eebd",
   "metadata": {},
   "outputs": [
    {
     "data": {
      "text/html": [
       "<div>\n",
       "<style scoped>\n",
       "    .dataframe tbody tr th:only-of-type {\n",
       "        vertical-align: middle;\n",
       "    }\n",
       "\n",
       "    .dataframe tbody tr th {\n",
       "        vertical-align: top;\n",
       "    }\n",
       "\n",
       "    .dataframe thead th {\n",
       "        text-align: right;\n",
       "    }\n",
       "</style>\n",
       "<table border=\"1\" class=\"dataframe\">\n",
       "  <thead>\n",
       "    <tr style=\"text-align: right;\">\n",
       "      <th></th>\n",
       "      <th>StudentID</th>\n",
       "      <th>Age</th>\n",
       "      <th>Gender</th>\n",
       "      <th>Ethnicity</th>\n",
       "      <th>ParentalEducation</th>\n",
       "      <th>StudyTimeWeekly</th>\n",
       "      <th>Absences</th>\n",
       "      <th>Tutoring</th>\n",
       "      <th>ParentalSupport</th>\n",
       "      <th>Extracurricular</th>\n",
       "      <th>Sports</th>\n",
       "      <th>Music</th>\n",
       "      <th>Volunteering</th>\n",
       "      <th>GPA</th>\n",
       "      <th>GradeClass</th>\n",
       "      <th>GPA_Binned</th>\n",
       "      <th>STW_Binned</th>\n",
       "      <th>Abs_Binned</th>\n",
       "    </tr>\n",
       "  </thead>\n",
       "  <tbody>\n",
       "    <tr>\n",
       "      <th>count</th>\n",
       "      <td>2392.000000</td>\n",
       "      <td>2392.000000</td>\n",
       "      <td>2392.000000</td>\n",
       "      <td>2392.000000</td>\n",
       "      <td>2392.000000</td>\n",
       "      <td>2392.000000</td>\n",
       "      <td>2392.000000</td>\n",
       "      <td>2392.000000</td>\n",
       "      <td>2392.000000</td>\n",
       "      <td>2392.000000</td>\n",
       "      <td>2392.000000</td>\n",
       "      <td>2392.000000</td>\n",
       "      <td>2392.000000</td>\n",
       "      <td>2392.000000</td>\n",
       "      <td>2392.000000</td>\n",
       "      <td>2392.000000</td>\n",
       "      <td>2392.000000</td>\n",
       "      <td>2392.000000</td>\n",
       "    </tr>\n",
       "    <tr>\n",
       "      <th>mean</th>\n",
       "      <td>2196.500000</td>\n",
       "      <td>0.488434</td>\n",
       "      <td>0.510870</td>\n",
       "      <td>0.877508</td>\n",
       "      <td>1.746237</td>\n",
       "      <td>0.488587</td>\n",
       "      <td>0.501608</td>\n",
       "      <td>0.298077</td>\n",
       "      <td>2.121656</td>\n",
       "      <td>0.383361</td>\n",
       "      <td>0.301839</td>\n",
       "      <td>0.179766</td>\n",
       "      <td>0.157191</td>\n",
       "      <td>1.906186</td>\n",
       "      <td>2.983696</td>\n",
       "      <td>1.405936</td>\n",
       "      <td>4.388378</td>\n",
       "      <td>4.518813</td>\n",
       "    </tr>\n",
       "    <tr>\n",
       "      <th>std</th>\n",
       "      <td>690.655244</td>\n",
       "      <td>0.373697</td>\n",
       "      <td>0.499986</td>\n",
       "      <td>1.028476</td>\n",
       "      <td>1.000411</td>\n",
       "      <td>0.281216</td>\n",
       "      <td>0.291117</td>\n",
       "      <td>0.457509</td>\n",
       "      <td>1.119688</td>\n",
       "      <td>0.486307</td>\n",
       "      <td>0.459152</td>\n",
       "      <td>0.384073</td>\n",
       "      <td>0.364057</td>\n",
       "      <td>0.915156</td>\n",
       "      <td>1.233908</td>\n",
       "      <td>0.949330</td>\n",
       "      <td>2.801699</td>\n",
       "      <td>2.804754</td>\n",
       "    </tr>\n",
       "    <tr>\n",
       "      <th>min</th>\n",
       "      <td>1001.000000</td>\n",
       "      <td>0.000000</td>\n",
       "      <td>0.000000</td>\n",
       "      <td>0.000000</td>\n",
       "      <td>0.000000</td>\n",
       "      <td>0.000000</td>\n",
       "      <td>0.000000</td>\n",
       "      <td>0.000000</td>\n",
       "      <td>0.000000</td>\n",
       "      <td>0.000000</td>\n",
       "      <td>0.000000</td>\n",
       "      <td>0.000000</td>\n",
       "      <td>0.000000</td>\n",
       "      <td>0.000000</td>\n",
       "      <td>0.000000</td>\n",
       "      <td>0.000000</td>\n",
       "      <td>0.000000</td>\n",
       "      <td>0.000000</td>\n",
       "    </tr>\n",
       "    <tr>\n",
       "      <th>25%</th>\n",
       "      <td>1598.750000</td>\n",
       "      <td>0.000000</td>\n",
       "      <td>0.000000</td>\n",
       "      <td>0.000000</td>\n",
       "      <td>1.000000</td>\n",
       "      <td>0.252881</td>\n",
       "      <td>0.241379</td>\n",
       "      <td>0.000000</td>\n",
       "      <td>1.000000</td>\n",
       "      <td>0.000000</td>\n",
       "      <td>0.000000</td>\n",
       "      <td>0.000000</td>\n",
       "      <td>0.000000</td>\n",
       "      <td>1.174803</td>\n",
       "      <td>2.000000</td>\n",
       "      <td>1.000000</td>\n",
       "      <td>2.000000</td>\n",
       "      <td>2.000000</td>\n",
       "    </tr>\n",
       "    <tr>\n",
       "      <th>50%</th>\n",
       "      <td>2196.500000</td>\n",
       "      <td>0.333333</td>\n",
       "      <td>1.000000</td>\n",
       "      <td>0.000000</td>\n",
       "      <td>2.000000</td>\n",
       "      <td>0.488587</td>\n",
       "      <td>0.517241</td>\n",
       "      <td>0.000000</td>\n",
       "      <td>2.000000</td>\n",
       "      <td>0.000000</td>\n",
       "      <td>0.000000</td>\n",
       "      <td>0.000000</td>\n",
       "      <td>0.000000</td>\n",
       "      <td>1.893393</td>\n",
       "      <td>4.000000</td>\n",
       "      <td>1.000000</td>\n",
       "      <td>4.000000</td>\n",
       "      <td>5.000000</td>\n",
       "    </tr>\n",
       "    <tr>\n",
       "      <th>75%</th>\n",
       "      <td>2794.250000</td>\n",
       "      <td>0.666667</td>\n",
       "      <td>1.000000</td>\n",
       "      <td>2.000000</td>\n",
       "      <td>2.000000</td>\n",
       "      <td>0.718476</td>\n",
       "      <td>0.758621</td>\n",
       "      <td>1.000000</td>\n",
       "      <td>3.000000</td>\n",
       "      <td>1.000000</td>\n",
       "      <td>1.000000</td>\n",
       "      <td>0.000000</td>\n",
       "      <td>0.000000</td>\n",
       "      <td>2.622216</td>\n",
       "      <td>4.000000</td>\n",
       "      <td>2.000000</td>\n",
       "      <td>7.000000</td>\n",
       "      <td>7.000000</td>\n",
       "    </tr>\n",
       "    <tr>\n",
       "      <th>max</th>\n",
       "      <td>3392.000000</td>\n",
       "      <td>1.000000</td>\n",
       "      <td>1.000000</td>\n",
       "      <td>3.000000</td>\n",
       "      <td>4.000000</td>\n",
       "      <td>1.000000</td>\n",
       "      <td>1.000000</td>\n",
       "      <td>1.000000</td>\n",
       "      <td>4.000000</td>\n",
       "      <td>1.000000</td>\n",
       "      <td>1.000000</td>\n",
       "      <td>1.000000</td>\n",
       "      <td>1.000000</td>\n",
       "      <td>4.000000</td>\n",
       "      <td>4.000000</td>\n",
       "      <td>3.000000</td>\n",
       "      <td>9.000000</td>\n",
       "      <td>9.000000</td>\n",
       "    </tr>\n",
       "  </tbody>\n",
       "</table>\n",
       "</div>"
      ],
      "text/plain": [
       "         StudentID          Age       Gender    Ethnicity  ParentalEducation  \\\n",
       "count  2392.000000  2392.000000  2392.000000  2392.000000        2392.000000   \n",
       "mean   2196.500000     0.488434     0.510870     0.877508           1.746237   \n",
       "std     690.655244     0.373697     0.499986     1.028476           1.000411   \n",
       "min    1001.000000     0.000000     0.000000     0.000000           0.000000   \n",
       "25%    1598.750000     0.000000     0.000000     0.000000           1.000000   \n",
       "50%    2196.500000     0.333333     1.000000     0.000000           2.000000   \n",
       "75%    2794.250000     0.666667     1.000000     2.000000           2.000000   \n",
       "max    3392.000000     1.000000     1.000000     3.000000           4.000000   \n",
       "\n",
       "       StudyTimeWeekly     Absences     Tutoring  ParentalSupport  \\\n",
       "count      2392.000000  2392.000000  2392.000000      2392.000000   \n",
       "mean          0.488587     0.501608     0.298077         2.121656   \n",
       "std           0.281216     0.291117     0.457509         1.119688   \n",
       "min           0.000000     0.000000     0.000000         0.000000   \n",
       "25%           0.252881     0.241379     0.000000         1.000000   \n",
       "50%           0.488587     0.517241     0.000000         2.000000   \n",
       "75%           0.718476     0.758621     1.000000         3.000000   \n",
       "max           1.000000     1.000000     1.000000         4.000000   \n",
       "\n",
       "       Extracurricular       Sports        Music  Volunteering          GPA  \\\n",
       "count      2392.000000  2392.000000  2392.000000   2392.000000  2392.000000   \n",
       "mean          0.383361     0.301839     0.179766      0.157191     1.906186   \n",
       "std           0.486307     0.459152     0.384073      0.364057     0.915156   \n",
       "min           0.000000     0.000000     0.000000      0.000000     0.000000   \n",
       "25%           0.000000     0.000000     0.000000      0.000000     1.174803   \n",
       "50%           0.000000     0.000000     0.000000      0.000000     1.893393   \n",
       "75%           1.000000     1.000000     0.000000      0.000000     2.622216   \n",
       "max           1.000000     1.000000     1.000000      1.000000     4.000000   \n",
       "\n",
       "        GradeClass   GPA_Binned   STW_Binned   Abs_Binned  \n",
       "count  2392.000000  2392.000000  2392.000000  2392.000000  \n",
       "mean      2.983696     1.405936     4.388378     4.518813  \n",
       "std       1.233908     0.949330     2.801699     2.804754  \n",
       "min       0.000000     0.000000     0.000000     0.000000  \n",
       "25%       2.000000     1.000000     2.000000     2.000000  \n",
       "50%       4.000000     1.000000     4.000000     5.000000  \n",
       "75%       4.000000     2.000000     7.000000     7.000000  \n",
       "max       4.000000     3.000000     9.000000     9.000000  "
      ]
     },
     "execution_count": 39,
     "metadata": {},
     "output_type": "execute_result"
    }
   ],
   "source": [
    "#importing MinMaxScaler library\n",
    "from sklearn.preprocessing import MinMaxScaler\n",
    "# taking list of all numerocal attributes\n",
    "numerical_attributes_list = ['Age', 'StudyTimeWeekly', 'Absences']\n",
    "scalling=MinMaxScaler()\n",
    "dataRead[numerical_attributes_list] = scalling.fit_transform(dataRead[numerical_attributes_list])\n",
    "dataRead.describe()"
   ]
  },
  {
   "cell_type": "markdown",
   "id": "ff45be9b-fa7c-4a33-b893-8fd566561c54",
   "metadata": {},
   "source": [
    "## Task 5: Print the average GPA for each grade respectively. "
   ]
  },
  {
   "cell_type": "code",
   "execution_count": 25,
   "id": "33fd74e8-cbb4-4484-b186-e7c837720efa",
   "metadata": {},
   "outputs": [
    {
     "name": "stdout",
     "output_type": "stream",
     "text": [
      "GradeClass\n",
      "0    3.102942\n",
      "1    3.001673\n",
      "2    2.659742\n",
      "3    2.215545\n",
      "4    1.208041\n",
      "Name: GPA, dtype: float64\n"
     ]
    }
   ],
   "source": [
    "#grouping all Gradeclass attribute w.r.t GPA target feature\n",
    "average_gpa_eachgradeclass=dataRead.groupby(\"GradeClass\")[\"GPA\"].mean()\n",
    "print(average_gpa_eachgradeclass)"
   ]
  },
  {
   "cell_type": "markdown",
   "id": "c618a4c5-425b-4b1d-a0cd-16c263eac8e6",
   "metadata": {},
   "source": [
    "## Task 6: Which grade is highly involved in Sports"
   ]
  },
  {
   "cell_type": "code",
   "execution_count": 26,
   "id": "f946ceb5-1d24-4650-a08c-2c2e517ff85d",
   "metadata": {},
   "outputs": [
    {
     "data": {
      "text/html": [
       "<div>\n",
       "<style scoped>\n",
       "    .dataframe tbody tr th:only-of-type {\n",
       "        vertical-align: middle;\n",
       "    }\n",
       "\n",
       "    .dataframe tbody tr th {\n",
       "        vertical-align: top;\n",
       "    }\n",
       "\n",
       "    .dataframe thead th {\n",
       "        text-align: right;\n",
       "    }\n",
       "</style>\n",
       "<table border=\"1\" class=\"dataframe\">\n",
       "  <thead>\n",
       "    <tr style=\"text-align: right;\">\n",
       "      <th>Sports</th>\n",
       "      <th>0.0</th>\n",
       "      <th>1.0</th>\n",
       "    </tr>\n",
       "    <tr>\n",
       "      <th>GradeClass</th>\n",
       "      <th></th>\n",
       "      <th></th>\n",
       "    </tr>\n",
       "  </thead>\n",
       "  <tbody>\n",
       "    <tr>\n",
       "      <th>0</th>\n",
       "      <td>2.89%</td>\n",
       "      <td>1.59%</td>\n",
       "    </tr>\n",
       "    <tr>\n",
       "      <th>1</th>\n",
       "      <td>7.45%</td>\n",
       "      <td>3.81%</td>\n",
       "    </tr>\n",
       "    <tr>\n",
       "      <th>2</th>\n",
       "      <td>11.75%</td>\n",
       "      <td>4.6%</td>\n",
       "    </tr>\n",
       "    <tr>\n",
       "      <th>3</th>\n",
       "      <td>12.09%</td>\n",
       "      <td>5.23%</td>\n",
       "    </tr>\n",
       "    <tr>\n",
       "      <th>4</th>\n",
       "      <td>35.67%</td>\n",
       "      <td>14.97%</td>\n",
       "    </tr>\n",
       "  </tbody>\n",
       "</table>\n",
       "</div>"
      ],
      "text/plain": [
       "Sports         0.0     1.0\n",
       "GradeClass                \n",
       "0            2.89%   1.59%\n",
       "1            7.45%   3.81%\n",
       "2           11.75%    4.6%\n",
       "3           12.09%   5.23%\n",
       "4           35.67%  14.97%"
      ]
     },
     "execution_count": 26,
     "metadata": {},
     "output_type": "execute_result"
    }
   ],
   "source": [
    "# crosstab to check %counts by sports and gradeclass\n",
    "data_one=pd.crosstab(dataRead['GradeClass'],dataRead['Sports'],normalize=True)\n",
    "data_two=data_one.applymap(lambda x : str(math.ceil(x*10000)/100) + \"%\")\n",
    "data_two"
   ]
  },
  {
   "cell_type": "markdown",
   "id": "2d3cfa2e-5263-4ba0-b9d7-8603817ae376",
   "metadata": {},
   "source": [
    "##### Observation:-Grade 4 is highly involved in Sports as it contains 14.97% of data"
   ]
  },
  {
   "cell_type": "markdown",
   "id": "e7e73595-9120-42a4-a432-7c625029fffb",
   "metadata": {},
   "source": [
    "## Task 7: Calculate the proximity measure between ( choose the measuring technique based on the column)\n",
    "1. Tutoring and GPA\n",
    "2. Studytime and GPA\n",
    "3. Studytime and absences"
   ]
  },
  {
   "cell_type": "markdown",
   "id": "e70f21a4-51c5-4d74-b621-3c340935fa3c",
   "metadata": {},
   "source": [
    "#### 7.1 Tutoring and GPA\n",
    "As Tutoring is nomial binary and GPA is continuous variable , the proximity measures will follow mix attribute approach"
   ]
  },
  {
   "cell_type": "code",
   "execution_count": 27,
   "id": "7869a1ca-5a74-4a4d-a6e9-d35dde318cf0",
   "metadata": {},
   "outputs": [
    {
     "name": "stdout",
     "output_type": "stream",
     "text": [
      "[[0.       0.514215 0.852075 ... 0.72336  0.640735 0.59865 ]\n",
      " [0.514215 0.       0.36629  ... 0.237575 0.15495  0.112865]\n",
      " [0.852075 0.36629  0.       ... 0.128715 0.211335 0.253425]\n",
      " ...\n",
      " [0.72336  0.237575 0.128715 ... 0.       0.08262  0.12471 ]\n",
      " [0.640735 0.15495  0.211335 ... 0.08262  0.       0.04209 ]\n",
      " [0.59865  0.112865 0.253425 ... 0.12471  0.04209  0.      ]]\n"
     ]
    }
   ],
   "source": [
    "from scipy.spatial.distance import cdist\n",
    "# Tutoring Dissimilarity\n",
    "tutor = ['Tutoring']\n",
    "dataRead_new = dataRead[tutor]\n",
    "tutor_dis=cdist(dataRead_new ,dataRead_new,metric='jaccard')\n",
    "\n",
    "# GPA Dissimilarity\n",
    "# defining a numby array with 0 with same data points\n",
    "gpa_dis = np.zeros((dataRead.shape[0], dataRead.shape[0]))\n",
    "# saving all the gpa values in a numpy array\n",
    "gpa_val = dataRead['GPA'].values\n",
    "# calculating max and min of gpa and their difference\n",
    "gpa_val_max = dataRead['GPA'].max()\n",
    "gpa_val_min = dataRead['GPA'].min()\n",
    "gpa_max_min_diff = dataRead['GPA'].max() - dataRead['GPA'].min()\n",
    "for i in range(dataRead.shape[0]):\n",
    "    for j in range(dataRead.shape[0]):\n",
    "        gpa_dis[i, j] = round(abs(gpa_val[i] - gpa_val[j]) / gpa_max_min_diff , 5)\n",
    "        \n",
    "        \n",
    "# combining two Dissimilarity matrix\n",
    "tutor_gpa_dissimilarity = (tutor_dis + gpa_dis) / 2\n",
    "print(tutor_gpa_dissimilarity)"
   ]
  },
  {
   "cell_type": "markdown",
   "id": "3a476778-1371-4354-bba8-feaada6a97ba",
   "metadata": {},
   "source": [
    "#### 7.2 Studytime and GPA\n",
    "As both variables are numeric , euclidean distance is calulated between objects for proximity measures"
   ]
  },
  {
   "cell_type": "code",
   "execution_count": 28,
   "id": "cec868de-92fe-4fbb-9a8f-90e82deab496",
   "metadata": {},
   "outputs": [
    {
     "name": "stdout",
     "output_type": "stream",
     "text": [
      "[[0.         0.24898894 2.92315051 ... 1.90215428 1.18553652 0.79559395]\n",
      " [0.24898894 0.         2.98344622 ... 1.94876305 1.24863371 0.91093232]\n",
      " [2.92315051 2.98344622 0.         ... 1.03789115 1.73988064 2.13880765]\n",
      " ...\n",
      " [1.90215428 1.94876305 1.03789115 ... 0.         0.71816913 1.13989384]\n",
      " [1.18553652 1.24863371 1.73988064 ... 0.71816913 0.         0.43189606]\n",
      " [0.79559395 0.91093232 2.13880765 ... 1.13989384 0.43189606 0.        ]]\n"
     ]
    }
   ],
   "source": [
    "from scipy.spatial.distance import cdist\n",
    "# calculating dissimiliarity using euclidean distance\n",
    "stu_gpa = ['StudyTimeWeekly', 'GPA']\n",
    "dataRead_new = dataRead[stu_gpa]\n",
    "dist_euc = cdist(dataRead_new, dataRead_new, metric='euclidean')\n",
    "print(dist_euc)"
   ]
  },
  {
   "cell_type": "markdown",
   "id": "5cf47fc9-d4f0-4ac3-adb9-e2f1280689ba",
   "metadata": {},
   "source": [
    "#### 7.3 Studytime and Absences\n",
    "As both variables are numeric , euclidean distance is calulated between objects for proximity measures"
   ]
  },
  {
   "cell_type": "code",
   "execution_count": 29,
   "id": "ee0573d9-a781-4405-818c-1dfaba2e2297",
   "metadata": {},
   "outputs": [
    {
     "name": "stdout",
     "output_type": "stream",
     "text": [
      "[[0.         0.3276086  1.02022634 ... 0.79136832 0.50670972 0.23014807]\n",
      " [0.3276086  0.         1.0573668  ... 0.81307438 0.60503861 0.46424003]\n",
      " [1.02022634 1.0573668  0.         ... 0.24429298 0.51483069 0.8155069 ]\n",
      " ...\n",
      " [0.79136832 0.81307438 0.24429298 ... 0.         0.29932457 0.60187587]\n",
      " [0.50670972 0.60503861 0.51483069 ... 0.29932457 0.         0.30361285]\n",
      " [0.23014807 0.46424003 0.8155069  ... 0.60187587 0.30361285 0.        ]]\n"
     ]
    }
   ],
   "source": [
    "# calculating dissimiliarity using euclidean distance\n",
    "stu_gpa2 = ['StudyTimeWeekly', 'Absences']\n",
    "dataRead_new2 = dataRead[stu_gpa2]\n",
    "dist_euc2 = cdist(dataRead_new2, dataRead_new2, metric='euclidean')\n",
    "print(dist_euc2)"
   ]
  },
  {
   "cell_type": "markdown",
   "id": "e37361ff-c8f0-469a-8dca-82fe21373ef4",
   "metadata": {},
   "source": [
    "## Task 8: Perform the feature selection considering GPA as the target variable and the rest of the columns as independent variables using the filter method.  ( use at least 3 methods )"
   ]
  },
  {
   "cell_type": "markdown",
   "id": "483852fb-c6dc-433d-803b-f974974b025d",
   "metadata": {},
   "source": [
    "#### 1st Filter Method - Pearson Correaltion Method only for numerical variable"
   ]
  },
  {
   "cell_type": "code",
   "execution_count": 30,
   "id": "1f8b5321-574b-4fb4-b312-69b85cb06530",
   "metadata": {},
   "outputs": [
    {
     "data": {
      "image/png": "[encoded data removed]",
      "text/plain": [
       "<Figure size 800x500 with 2 Axes>"
      ]
     },
     "metadata": {},
     "output_type": "display_data"
    },
    {
     "data": {
      "text/html": [
       "<div>\n",
       "<style scoped>\n",
       "    .dataframe tbody tr th:only-of-type {\n",
       "        vertical-align: middle;\n",
       "    }\n",
       "\n",
       "    .dataframe tbody tr th {\n",
       "        vertical-align: top;\n",
       "    }\n",
       "\n",
       "    .dataframe thead th {\n",
       "        text-align: right;\n",
       "    }\n",
       "</style>\n",
       "<table border=\"1\" class=\"dataframe\">\n",
       "  <thead>\n",
       "    <tr style=\"text-align: right;\">\n",
       "      <th></th>\n",
       "      <th>Age</th>\n",
       "      <th>StudyTimeWeekly</th>\n",
       "      <th>Absences</th>\n",
       "      <th>GPA</th>\n",
       "    </tr>\n",
       "  </thead>\n",
       "  <tbody>\n",
       "    <tr>\n",
       "      <th>Age</th>\n",
       "      <td>1.000000</td>\n",
       "      <td>-0.006979</td>\n",
       "      <td>-0.013086</td>\n",
       "      <td>0.000996</td>\n",
       "    </tr>\n",
       "    <tr>\n",
       "      <th>StudyTimeWeekly</th>\n",
       "      <td>-0.006979</td>\n",
       "      <td>1.000000</td>\n",
       "      <td>0.007204</td>\n",
       "      <td>0.181166</td>\n",
       "    </tr>\n",
       "    <tr>\n",
       "      <th>Absences</th>\n",
       "      <td>-0.013086</td>\n",
       "      <td>0.007204</td>\n",
       "      <td>1.000000</td>\n",
       "      <td>-0.916764</td>\n",
       "    </tr>\n",
       "    <tr>\n",
       "      <th>GPA</th>\n",
       "      <td>0.000996</td>\n",
       "      <td>0.181166</td>\n",
       "      <td>-0.916764</td>\n",
       "      <td>1.000000</td>\n",
       "    </tr>\n",
       "  </tbody>\n",
       "</table>\n",
       "</div>"
      ],
      "text/plain": [
       "                      Age  StudyTimeWeekly  Absences       GPA\n",
       "Age              1.000000        -0.006979 -0.013086  0.000996\n",
       "StudyTimeWeekly -0.006979         1.000000  0.007204  0.181166\n",
       "Absences        -0.013086         0.007204  1.000000 -0.916764\n",
       "GPA              0.000996         0.181166 -0.916764  1.000000"
      ]
     },
     "execution_count": 30,
     "metadata": {},
     "output_type": "execute_result"
    }
   ],
   "source": [
    "# figure size of the plot\n",
    "plt.figure(figsize=(8, 5)) \n",
    "# listing all the numerical variables\n",
    "numerical_var_list = ['Age','StudyTimeWeekly', 'Absences','GPA']\n",
    "dataRead_new= dataRead[numerical_var_list]\n",
    "# Using Seaborn to create a heatmap \n",
    "sbn.heatmap(dataRead_new.corr(method='pearson'), annot=True, fmt='.3f', cmap='YlGnBu', linewidths=1) \n",
    "  \n",
    "plt.title('Correlation Heatmap') \n",
    "plt.show() \n",
    "# pearson correaltion table\n",
    "dataRead_new.corr(method='pearson')"
   ]
  },
  {
   "cell_type": "markdown",
   "id": "8d3f046c-f285-4100-bea2-0792a7a4e251",
   "metadata": {},
   "source": [
    "#### For other filering methods, GPA has to be discretized and Min of GPA is 0 and max of GPA is 4, then max-min = 4,then bins will be 4 and all other numerical variables are binned as well to calculate variable importance. As Age variable contains only 4 discrete values , Binning is not needed for the Age field"
   ]
  },
  {
   "cell_type": "code",
   "execution_count": 31,
   "id": "7e0da738-272d-445d-a90d-25e9c666d6a1",
   "metadata": {},
   "outputs": [
    {
     "name": "stdout",
     "output_type": "stream",
     "text": [
      "Max of GPA by Bin : GPA_Binned\n",
      "0    0.999089\n",
      "1    1.999572\n",
      "2    2.999544\n",
      "3    4.000000\n",
      "Name: GPA, dtype: float64\n",
      "Minimum of GPA by Bin : GPA_Binned\n",
      "0    0.000000\n",
      "1    1.000776\n",
      "2    2.000084\n",
      "3    3.004233\n",
      "Name: GPA, dtype: float64\n",
      "Max of StudyTimeWeekly by Bin : STW_Binned\n",
      "0    0.099994\n",
      "1    0.199557\n",
      "2    0.298963\n",
      "3    0.399446\n",
      "4    0.499557\n",
      "5    0.600000\n",
      "6    0.699386\n",
      "7    0.798807\n",
      "8    0.899619\n",
      "9    1.000000\n",
      "Name: StudyTimeWeekly, dtype: float64\n",
      "Minimum of StudyTimeWeekly by Bin : STW_Binned\n",
      "0    0.000000\n",
      "1    0.100593\n",
      "2    0.200050\n",
      "3    0.300948\n",
      "4    0.400562\n",
      "5    0.500140\n",
      "6    0.600067\n",
      "7    0.701894\n",
      "8    0.801231\n",
      "9    0.900231\n",
      "Name: StudyTimeWeekly, dtype: float64\n",
      "Max of Absences by Bin : Abs_Binned\n",
      "0    0.068966\n",
      "1    0.172414\n",
      "2    0.275862\n",
      "3    0.379310\n",
      "4    0.482759\n",
      "5    0.586207\n",
      "6    0.689655\n",
      "7    0.793103\n",
      "8    0.896552\n",
      "9    1.000000\n",
      "Name: Absences, dtype: float64\n",
      "Minimum of Absences by Bin : Abs_Binned\n",
      "0    0.000000\n",
      "1    0.103448\n",
      "2    0.206897\n",
      "3    0.310345\n",
      "4    0.413793\n",
      "5    0.501608\n",
      "6    0.620690\n",
      "7    0.724138\n",
      "8    0.827586\n",
      "9    0.931034\n",
      "Name: Absences, dtype: float64\n"
     ]
    }
   ],
   "source": [
    "# Binning of GPA \n",
    "dataRead['GPA_Binned'] = pd.cut(dataRead['GPA'], bins=4, labels=False)\n",
    "print(f'Max of GPA by Bin : {dataRead.groupby(\"GPA_Binned\")[\"GPA\"].max()}')\n",
    "print(f'Minimum of GPA by Bin : {dataRead.groupby(\"GPA_Binned\")[\"GPA\"].min()}')\n",
    "\n",
    "# Binning of StudyTimeWeekly\n",
    "dataRead['STW_Binned'] = pd.cut(dataRead['StudyTimeWeekly'], bins=10, labels=False)\n",
    "print(f'Max of StudyTimeWeekly by Bin : {dataRead.groupby(\"STW_Binned\")[\"StudyTimeWeekly\"].max()}')\n",
    "print(f'Minimum of StudyTimeWeekly by Bin : {dataRead.groupby(\"STW_Binned\")[\"StudyTimeWeekly\"].min()}')\n",
    "\n",
    "# Binning of Absences\n",
    "dataRead['Abs_Binned'] = pd.cut(dataRead['Absences'], bins=10, labels=False)\n",
    "print(f'Max of Absences by Bin : {dataRead.groupby(\"Abs_Binned\")[\"Absences\"].max()}')\n",
    "print(f'Minimum of Absences by Bin : {dataRead.groupby(\"Abs_Binned\")[\"Absences\"].min()}')"
   ]
  },
  {
   "cell_type": "markdown",
   "id": "8c58ffa9-cb23-4ea0-82ba-b779a86bb920",
   "metadata": {},
   "source": [
    "#### 2nd Filter Method - Mutual Information Classifier Method for Categorical variables"
   ]
  },
  {
   "cell_type": "code",
   "execution_count": 32,
   "id": "ddc62b09-01c1-4755-ba90-b56b8e35ce7e",
   "metadata": {},
   "outputs": [
    {
     "data": {
      "text/html": [
       "<div>\n",
       "<style scoped>\n",
       "    .dataframe tbody tr th:only-of-type {\n",
       "        vertical-align: middle;\n",
       "    }\n",
       "\n",
       "    .dataframe tbody tr th {\n",
       "        vertical-align: top;\n",
       "    }\n",
       "\n",
       "    .dataframe thead th {\n",
       "        text-align: right;\n",
       "    }\n",
       "</style>\n",
       "<table border=\"1\" class=\"dataframe\">\n",
       "  <thead>\n",
       "    <tr style=\"text-align: right;\">\n",
       "      <th></th>\n",
       "      <th>Mutual_Info_Score</th>\n",
       "    </tr>\n",
       "  </thead>\n",
       "  <tbody>\n",
       "    <tr>\n",
       "      <th>GradeClass</th>\n",
       "      <td>0.738818</td>\n",
       "    </tr>\n",
       "    <tr>\n",
       "      <th>Abs_Binned</th>\n",
       "      <td>0.694138</td>\n",
       "    </tr>\n",
       "    <tr>\n",
       "      <th>STW_Binned</th>\n",
       "      <td>0.046032</td>\n",
       "    </tr>\n",
       "    <tr>\n",
       "      <th>Tutoring</th>\n",
       "      <td>0.044725</td>\n",
       "    </tr>\n",
       "    <tr>\n",
       "      <th>Ethnicity</th>\n",
       "      <td>0.017522</td>\n",
       "    </tr>\n",
       "    <tr>\n",
       "      <th>Music</th>\n",
       "      <td>0.014771</td>\n",
       "    </tr>\n",
       "    <tr>\n",
       "      <th>ParentalSupport</th>\n",
       "      <td>0.013469</td>\n",
       "    </tr>\n",
       "    <tr>\n",
       "      <th>Volunteering</th>\n",
       "      <td>0.003303</td>\n",
       "    </tr>\n",
       "    <tr>\n",
       "      <th>Sports</th>\n",
       "      <td>0.002582</td>\n",
       "    </tr>\n",
       "    <tr>\n",
       "      <th>ParentalEducation</th>\n",
       "      <td>0.002098</td>\n",
       "    </tr>\n",
       "    <tr>\n",
       "      <th>Age</th>\n",
       "      <td>0.000000</td>\n",
       "    </tr>\n",
       "    <tr>\n",
       "      <th>Gender</th>\n",
       "      <td>0.000000</td>\n",
       "    </tr>\n",
       "    <tr>\n",
       "      <th>Extracurricular</th>\n",
       "      <td>0.000000</td>\n",
       "    </tr>\n",
       "  </tbody>\n",
       "</table>\n",
       "</div>"
      ],
      "text/plain": [
       "                   Mutual_Info_Score\n",
       "GradeClass                  0.738818\n",
       "Abs_Binned                  0.694138\n",
       "STW_Binned                  0.046032\n",
       "Tutoring                    0.044725\n",
       "Ethnicity                   0.017522\n",
       "Music                       0.014771\n",
       "ParentalSupport             0.013469\n",
       "Volunteering                0.003303\n",
       "Sports                      0.002582\n",
       "ParentalEducation           0.002098\n",
       "Age                         0.000000\n",
       "Gender                      0.000000\n",
       "Extracurricular             0.000000"
      ]
     },
     "execution_count": 32,
     "metadata": {},
     "output_type": "execute_result"
    }
   ],
   "source": [
    "from sklearn.feature_selection import SelectKBest, mutual_info_classif\n",
    "\n",
    "# X & Y intialization\n",
    "categorical_var_list = ['Age','Abs_Binned','STW_Binned','Gender','Ethnicity','ParentalEducation','Tutoring','ParentalSupport','Extracurricular','Sports','Music','Volunteering','GradeClass']\n",
    "X= dataRead[categorical_var_list]\n",
    "Y = dataRead[\"GPA_Binned\"]\n",
    "# mutual info function fit\n",
    "mut_info = SelectKBest(score_func=mutual_info_classif,k=5)\n",
    "mut_info.fit_transform(X,Y)\n",
    "# dataframe creation to contain mutual info score with variable names\n",
    "mut_info_score = pd.DataFrame(mut_info.scores_,index=X.columns,columns=['Mutual_Info_Score'])\n",
    "# sorting mutual infor score in descending order\n",
    "mut_info_score.sort_values(by=['Mutual_Info_Score'],ascending=False)"
   ]
  },
  {
   "cell_type": "markdown",
   "id": "c58a9d02-8b5b-45b8-b0e0-90e706e4ab29",
   "metadata": {},
   "source": [
    "#### 3rd Filter Method : Chi Square Test  among categorical variables"
   ]
  },
  {
   "cell_type": "code",
   "execution_count": 33,
   "id": "4bd12060-7d0a-487b-a5c8-7b209093c2ac",
   "metadata": {},
   "outputs": [
    {
     "data": {
      "text/html": [
       "<div>\n",
       "<style scoped>\n",
       "    .dataframe tbody tr th:only-of-type {\n",
       "        vertical-align: middle;\n",
       "    }\n",
       "\n",
       "    .dataframe tbody tr th {\n",
       "        vertical-align: top;\n",
       "    }\n",
       "\n",
       "    .dataframe thead th {\n",
       "        text-align: right;\n",
       "    }\n",
       "</style>\n",
       "<table border=\"1\" class=\"dataframe\">\n",
       "  <thead>\n",
       "    <tr style=\"text-align: right;\">\n",
       "      <th></th>\n",
       "      <th>Column_Name</th>\n",
       "      <th>Chi_Sq_P_Value</th>\n",
       "    </tr>\n",
       "  </thead>\n",
       "  <tbody>\n",
       "    <tr>\n",
       "      <th>1</th>\n",
       "      <td>Abs_Binned</td>\n",
       "      <td>0.000000</td>\n",
       "    </tr>\n",
       "    <tr>\n",
       "      <th>6</th>\n",
       "      <td>Tutoring</td>\n",
       "      <td>0.000000</td>\n",
       "    </tr>\n",
       "    <tr>\n",
       "      <th>7</th>\n",
       "      <td>ParentalSupport</td>\n",
       "      <td>0.000000</td>\n",
       "    </tr>\n",
       "    <tr>\n",
       "      <th>12</th>\n",
       "      <td>GradeClass</td>\n",
       "      <td>0.000000</td>\n",
       "    </tr>\n",
       "    <tr>\n",
       "      <th>2</th>\n",
       "      <td>STW_Binned</td>\n",
       "      <td>0.000001</td>\n",
       "    </tr>\n",
       "    <tr>\n",
       "      <th>8</th>\n",
       "      <td>Extracurricular</td>\n",
       "      <td>0.000071</td>\n",
       "    </tr>\n",
       "    <tr>\n",
       "      <th>9</th>\n",
       "      <td>Sports</td>\n",
       "      <td>0.000770</td>\n",
       "    </tr>\n",
       "    <tr>\n",
       "      <th>10</th>\n",
       "      <td>Music</td>\n",
       "      <td>0.001805</td>\n",
       "    </tr>\n",
       "    <tr>\n",
       "      <th>5</th>\n",
       "      <td>ParentalEducation</td>\n",
       "      <td>0.178146</td>\n",
       "    </tr>\n",
       "    <tr>\n",
       "      <th>0</th>\n",
       "      <td>Age</td>\n",
       "      <td>0.248155</td>\n",
       "    </tr>\n",
       "    <tr>\n",
       "      <th>11</th>\n",
       "      <td>Volunteering</td>\n",
       "      <td>0.428389</td>\n",
       "    </tr>\n",
       "    <tr>\n",
       "      <th>4</th>\n",
       "      <td>Ethnicity</td>\n",
       "      <td>0.514743</td>\n",
       "    </tr>\n",
       "    <tr>\n",
       "      <th>3</th>\n",
       "      <td>Gender</td>\n",
       "      <td>0.900460</td>\n",
       "    </tr>\n",
       "  </tbody>\n",
       "</table>\n",
       "</div>"
      ],
      "text/plain": [
       "          Column_Name  Chi_Sq_P_Value\n",
       "1          Abs_Binned        0.000000\n",
       "6            Tutoring        0.000000\n",
       "7     ParentalSupport        0.000000\n",
       "12         GradeClass        0.000000\n",
       "2          STW_Binned        0.000001\n",
       "8     Extracurricular        0.000071\n",
       "9              Sports        0.000770\n",
       "10              Music        0.001805\n",
       "5   ParentalEducation        0.178146\n",
       "0                 Age        0.248155\n",
       "11       Volunteering        0.428389\n",
       "4           Ethnicity        0.514743\n",
       "3              Gender        0.900460"
      ]
     },
     "execution_count": 33,
     "metadata": {},
     "output_type": "execute_result"
    }
   ],
   "source": [
    "from scipy.stats import chi2_contingency\n",
    "\n",
    "# categorical variable list define\n",
    "categorical_var_list = ['Age','Abs_Binned','STW_Binned','Gender','Ethnicity','ParentalEducation','Tutoring','ParentalSupport','Extracurricular','Sports','Music','Volunteering','GradeClass']\n",
    "list1 = []\n",
    "\n",
    "# calculation p_value for chi sqaure test for all categorical variable present in the list above\n",
    "for column in categorical_var_list:\n",
    "    contingency_table = pd.crosstab(dataRead[column], dataRead['GPA_Binned'])\n",
    "    chi2, p, degrees_of_freedom, expected_result = chi2_contingency(contingency_table)\n",
    "    list1.append(round(p,6))\n",
    "\n",
    "# dataframe creation to contain variable names and their correspondi p_vales for chi sqaure\n",
    "df2 = pd.DataFrame()\n",
    "df2['Column_Name'] = categorical_var_list\n",
    "df2['Chi_Sq_P_Value'] = list1\n",
    "\n",
    "df2.sort_values(by=['Chi_Sq_P_Value'])"
   ]
  },
  {
   "cell_type": "markdown",
   "id": "eddbcf59-878e-45fc-ac99-edb5250f6223",
   "metadata": {},
   "source": [
    "#### 4th Filter Method - Anova Method for categorical variables using F_Classif"
   ]
  },
  {
   "cell_type": "code",
   "execution_count": 34,
   "id": "c7d22317-ea81-4a7b-b1eb-8e30ab135cef",
   "metadata": {},
   "outputs": [
    {
     "data": {
      "text/html": [
       "<div>\n",
       "<style scoped>\n",
       "    .dataframe tbody tr th:only-of-type {\n",
       "        vertical-align: middle;\n",
       "    }\n",
       "\n",
       "    .dataframe tbody tr th {\n",
       "        vertical-align: top;\n",
       "    }\n",
       "\n",
       "    .dataframe thead th {\n",
       "        text-align: right;\n",
       "    }\n",
       "</style>\n",
       "<table border=\"1\" class=\"dataframe\">\n",
       "  <thead>\n",
       "    <tr style=\"text-align: right;\">\n",
       "      <th></th>\n",
       "      <th>Col_Names</th>\n",
       "      <th>Anova Score</th>\n",
       "      <th>Anova P-Value</th>\n",
       "    </tr>\n",
       "  </thead>\n",
       "  <tbody>\n",
       "    <tr>\n",
       "      <th>1</th>\n",
       "      <td>Abs_Binned</td>\n",
       "      <td>2741.224189</td>\n",
       "      <td>0.000</td>\n",
       "    </tr>\n",
       "    <tr>\n",
       "      <th>12</th>\n",
       "      <td>GradeClass</td>\n",
       "      <td>1882.101515</td>\n",
       "      <td>0.000</td>\n",
       "    </tr>\n",
       "    <tr>\n",
       "      <th>7</th>\n",
       "      <td>ParentalSupport</td>\n",
       "      <td>28.442936</td>\n",
       "      <td>0.000</td>\n",
       "    </tr>\n",
       "    <tr>\n",
       "      <th>2</th>\n",
       "      <td>STW_Binned</td>\n",
       "      <td>22.703090</td>\n",
       "      <td>0.000</td>\n",
       "    </tr>\n",
       "    <tr>\n",
       "      <th>6</th>\n",
       "      <td>Tutoring</td>\n",
       "      <td>21.956430</td>\n",
       "      <td>0.000</td>\n",
       "    </tr>\n",
       "    <tr>\n",
       "      <th>8</th>\n",
       "      <td>Extracurricular</td>\n",
       "      <td>7.330401</td>\n",
       "      <td>0.000</td>\n",
       "    </tr>\n",
       "    <tr>\n",
       "      <th>9</th>\n",
       "      <td>Sports</td>\n",
       "      <td>5.636696</td>\n",
       "      <td>0.001</td>\n",
       "    </tr>\n",
       "    <tr>\n",
       "      <th>10</th>\n",
       "      <td>Music</td>\n",
       "      <td>5.027663</td>\n",
       "      <td>0.002</td>\n",
       "    </tr>\n",
       "    <tr>\n",
       "      <th>4</th>\n",
       "      <td>Ethnicity</td>\n",
       "      <td>1.856574</td>\n",
       "      <td>0.135</td>\n",
       "    </tr>\n",
       "    <tr>\n",
       "      <th>11</th>\n",
       "      <td>Volunteering</td>\n",
       "      <td>0.923005</td>\n",
       "      <td>0.429</td>\n",
       "    </tr>\n",
       "    <tr>\n",
       "      <th>5</th>\n",
       "      <td>ParentalEducation</td>\n",
       "      <td>0.685961</td>\n",
       "      <td>0.561</td>\n",
       "    </tr>\n",
       "    <tr>\n",
       "      <th>3</th>\n",
       "      <td>Gender</td>\n",
       "      <td>0.193841</td>\n",
       "      <td>0.901</td>\n",
       "    </tr>\n",
       "    <tr>\n",
       "      <th>0</th>\n",
       "      <td>Age</td>\n",
       "      <td>0.034341</td>\n",
       "      <td>0.991</td>\n",
       "    </tr>\n",
       "  </tbody>\n",
       "</table>\n",
       "</div>"
      ],
      "text/plain": [
       "            Col_Names  Anova Score  Anova P-Value\n",
       "1          Abs_Binned  2741.224189          0.000\n",
       "12         GradeClass  1882.101515          0.000\n",
       "7     ParentalSupport    28.442936          0.000\n",
       "2          STW_Binned    22.703090          0.000\n",
       "6            Tutoring    21.956430          0.000\n",
       "8     Extracurricular     7.330401          0.000\n",
       "9              Sports     5.636696          0.001\n",
       "10              Music     5.027663          0.002\n",
       "4           Ethnicity     1.856574          0.135\n",
       "11       Volunteering     0.923005          0.429\n",
       "5   ParentalEducation     0.685961          0.561\n",
       "3              Gender     0.193841          0.901\n",
       "0                 Age     0.034341          0.991"
      ]
     },
     "execution_count": 34,
     "metadata": {},
     "output_type": "execute_result"
    }
   ],
   "source": [
    "from sklearn.feature_selection import f_classif,SelectKBest \n",
    "# Anova model fit\n",
    "model = SelectKBest(score_func=f_classif,k=10)\n",
    "model.fit(X,Y)\n",
    "# model score calculation along with p_values\n",
    "df_score = pd.DataFrame(model.scores_)\n",
    "df_pvalue = pd.DataFrame(np.round(model.pvalues_,3))\n",
    "df_col = pd.DataFrame(X.columns)\n",
    "df_new = pd.concat([df_col,df_score,df_pvalue],axis=1)\n",
    "# Assigning the column names\n",
    "df_new.columns = [\"Col_Names\",\"Anova Score\",\"Anova P-Value\"]\n",
    "df_new.sort_values(by=['Anova Score'],ascending = False)\n",
    "# print(df_new.nlargest(10,columns=\"Anova Score\"))"
   ]
  },
  {
   "cell_type": "markdown",
   "id": "3b5f77f2-bcba-4fa2-8206-b50d42086b05",
   "metadata": {},
   "source": [
    "### Task 9: Perform a comparison between various feature selection methods and report the best 5 features among each technique."
   ]
  },
  {
   "cell_type": "markdown",
   "id": "5aeabfdd-fdb4-4a99-8592-d236bbced78e",
   "metadata": {},
   "source": [
    "#### 9.1. Pearson Correlation :\n",
    "   *  Pearson correaltion method has been applied on only numerical features and there are only 3 independent numerical  variables - \n",
    "      1- Absences, 2- StudyTimeweekly 3- Age. Target variable is GPA. \n",
    "* The correaltion coeffienct between Absences and GPA is super strong  -0.91. we can say there is negetive strong relationship between Absences and GPA. The correaltion between StudytimeWeekly and GPA is below .02 and same goes for the field Age as well. "
   ]
  },
  {
   "cell_type": "markdown",
   "id": "5925e531-ca10-4a6a-bdb3-db13fd0ecfcd",
   "metadata": {},
   "source": [
    "#### 9.2. Mutual Information :\n",
    "* Mutual Information Classfier is used to perform this filter method for feature selection\n",
    "* StudyTimeWeekly and Absences have also been binned for Mutual Information method\n",
    "* Age has not been converted to a binning field as the values of Age are discrete and their distribution are almost same for all the four vales - 15,16,17 & 18\n",
    "* GPA, the target variable is also discretized as a categorical variable is needed for mututal information classifier method\n",
    "* We can see the top 5 varaibles who have got the most mutual information with GPA_Binned (GPA Binned Field) variable are - \n",
    "    1. GradeClass\n",
    "    2. Abs_Binned (Absences Binned Field)\n",
    "    3. Tutoring\n",
    "    4. Sports\n",
    "    5. Extracurricular"
   ]
  },
  {
   "cell_type": "markdown",
   "id": "67f4ade8-7f4d-439b-bd7a-f5e1e1610ec7",
   "metadata": {},
   "source": [
    "#### 9.3. Chi Square :\n",
    "* As Chi Square needs the target of dependent variable a categorical field , hence GPA field has been discretized and converted to categorical to perform chi square\n",
    "* StudyTimeWeekly and Absences have also been binned for chi square\n",
    "* Age has not been converted to a binning field as the values of Age are discrete and their distribution are almost same for all the four vales - 15,16,17 & 18\n",
    "* After performing the Chi Square test, based on the P-Values for every features in ascending order, we can say that top 5 features will be \n",
    "     1. Abs_Binned (Absences Binned Field)\n",
    "     2. Tutoring \n",
    "     3. ParentalSupprot\n",
    "     4. GradeClass \n",
    "     5. STW_Binned (StudyTimeWeekly Binned variable)\n",
    "* In Chi Square we usually take those features whose p values are less than 0.05 and if p values are less than 0.05 we reject the null hypothesis."
   ]
  },
  {
   "cell_type": "markdown",
   "id": "36134dfb-9b0b-4922-adeb-b2b0dea70491",
   "metadata": {},
   "source": [
    "#### 9.4. Anova :\n",
    "* Anova method can be also used for feature selection\n",
    "* F_classif method has been used here\n",
    "* Discretized has been done on StudytimeWeekly, Absences and GPA like in Mutual Information Score\n",
    "* top 5 variables which have the most F stats score are \n",
    "        1. Abs_Binned (Absences Binned Field)\n",
    "        2. GradeClass\n",
    "        3. ParentalSupport\n",
    "        4. STW_Binned (StudyTimeWeekly Binned variable)\n",
    "        5. Tutoring"
   ]
  },
  {
   "cell_type": "markdown",
   "id": "af79318f-e374-4be0-8bb8-833e037c5158",
   "metadata": {},
   "source": [
    "## Task 10: Write down the understanding the most important feature in words "
   ]
  },
  {
   "cell_type": "markdown",
   "id": "f6061440-afa3-4477-87f9-3a2bc0f1f771",
   "metadata": {},
   "source": [
    "#### from Upper filter methods, it can be conlcuded that most important features are those which have a strong relationship with target variable.\n",
    "    - Absences field is numerial field and has a stong negative relationship with GPA. - 0.91, this means if Absences is more the GPA will be less in values\n",
    "    - GradeClass is another most important features and we can see it is present in all top 5 features list for three filter methods - Chi Sqaure, Mutual Information method and Anova\n",
    "    - Abs_Binned is also present in all filter methods and Absence has a strong relationship with GPA\n",
    "    - We can say that most important features using all 4 methods are Abseneces and GradeClass"
   ]
  },
  {
   "cell_type": "markdown",
   "id": "50a43904-7de7-4991-a884-9fa6c3e61829",
   "metadata": {},
   "source": [
    "## Task 11: Plot the correlation plot between the independent feature and the target variable."
   ]
  },
  {
   "cell_type": "code",
   "execution_count": 35,
   "id": "1c9387a7-c4ce-4355-984b-21a43060c6c7",
   "metadata": {},
   "outputs": [
    {
     "data": {
      "image/png": "[encoded data removed]",
      "text/plain": [
       "<Figure size 800x500 with 2 Axes>"
      ]
     },
     "metadata": {},
     "output_type": "display_data"
    },
    {
     "data": {
      "text/html": [
       "<div>\n",
       "<style scoped>\n",
       "    .dataframe tbody tr th:only-of-type {\n",
       "        vertical-align: middle;\n",
       "    }\n",
       "\n",
       "    .dataframe tbody tr th {\n",
       "        vertical-align: top;\n",
       "    }\n",
       "\n",
       "    .dataframe thead th {\n",
       "        text-align: right;\n",
       "    }\n",
       "</style>\n",
       "<table border=\"1\" class=\"dataframe\">\n",
       "  <thead>\n",
       "    <tr style=\"text-align: right;\">\n",
       "      <th></th>\n",
       "      <th>Age</th>\n",
       "      <th>StudyTimeWeekly</th>\n",
       "      <th>Absences</th>\n",
       "      <th>GPA</th>\n",
       "    </tr>\n",
       "  </thead>\n",
       "  <tbody>\n",
       "    <tr>\n",
       "      <th>Age</th>\n",
       "      <td>1.000000</td>\n",
       "      <td>-0.006979</td>\n",
       "      <td>-0.013086</td>\n",
       "      <td>0.000996</td>\n",
       "    </tr>\n",
       "    <tr>\n",
       "      <th>StudyTimeWeekly</th>\n",
       "      <td>-0.006979</td>\n",
       "      <td>1.000000</td>\n",
       "      <td>0.007204</td>\n",
       "      <td>0.181166</td>\n",
       "    </tr>\n",
       "    <tr>\n",
       "      <th>Absences</th>\n",
       "      <td>-0.013086</td>\n",
       "      <td>0.007204</td>\n",
       "      <td>1.000000</td>\n",
       "      <td>-0.916764</td>\n",
       "    </tr>\n",
       "    <tr>\n",
       "      <th>GPA</th>\n",
       "      <td>0.000996</td>\n",
       "      <td>0.181166</td>\n",
       "      <td>-0.916764</td>\n",
       "      <td>1.000000</td>\n",
       "    </tr>\n",
       "  </tbody>\n",
       "</table>\n",
       "</div>"
      ],
      "text/plain": [
       "                      Age  StudyTimeWeekly  Absences       GPA\n",
       "Age              1.000000        -0.006979 -0.013086  0.000996\n",
       "StudyTimeWeekly -0.006979         1.000000  0.007204  0.181166\n",
       "Absences        -0.013086         0.007204  1.000000 -0.916764\n",
       "GPA              0.000996         0.181166 -0.916764  1.000000"
      ]
     },
     "execution_count": 35,
     "metadata": {},
     "output_type": "execute_result"
    }
   ],
   "source": [
    "# figure size of the plot\n",
    "plt.figure(figsize=(8, 5)) \n",
    "# listing all the numerical variables\n",
    "numerical_var_list = ['Age','StudyTimeWeekly', 'Absences','GPA']\n",
    "df_new= dataRead[numerical_var_list]\n",
    "# Using Seaborn to create a heatmap \n",
    "sbn.heatmap(df_new.corr(method='pearson'), annot=True, fmt='.3f', cmap='YlGnBu', linewidths=1)  \n",
    "plt.title('Correlation Heatmap') \n",
    "plt.show() \n",
    "# pearson correaltion table\n",
    "df_new.corr(method='pearson')"
   ]
  },
  {
   "cell_type": "markdown",
   "id": "557d516a-3817-4680-b7f2-05383133c1a6",
   "metadata": {},
   "source": [
    "## 12. Write down the understanding of feature correlation in words."
   ]
  },
  {
   "cell_type": "markdown",
   "id": "57b4dbe2-f826-4dd9-a850-fd332351234a",
   "metadata": {},
   "source": [
    "#### Pearson Correlation :\n",
    "    * Pearson correaltion method has been applied on only numerical features and there are only 3 independent numerical  variables - \n",
    "      1- Absences, 2- StudyTimeweekly 3- Age. Target variable is GPA. \n",
    "    * The correaltion coeffienct between Absences and GPA is super strong  -0.91. we can say there is negetive strong relationship between Absences  and GPA.\n",
    "    * The more the Absences will be , the less GPA will be \n",
    "    * The correaltion between StudytimeWeekly and GPA is below .02 and same goes for the field Age as well. "
   ]
  }
 ],
 "metadata": {
  "kernelspec": {
   "display_name": "Python 3 (ipykernel)",
   "language": "python",
   "name": "python3"
  },
  "language_info": {
   "codemirror_mode": {
    "name": "ipython",
    "version": 3
   },
   "file_extension": ".py",
   "mimetype": "text/x-python",
   "name": "python",
   "nbconvert_exporter": "python",
   "pygments_lexer": "ipython3",
   "version": "3.12.2"
  }
 },
 "nbformat": 4,
 "nbformat_minor": 5
}
